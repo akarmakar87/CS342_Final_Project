{
  "cells": [
    {
      "cell_type": "code",
      "execution_count": null,
      "metadata": {
        "execution": {
          "iopub.execute_input": "2024-04-20T20:07:38.713142Z",
          "iopub.status.busy": "2024-04-20T20:07:38.712641Z",
          "iopub.status.idle": "2024-04-20T20:07:50.003215Z",
          "shell.execute_reply": "2024-04-20T20:07:50.001726Z",
          "shell.execute_reply.started": "2024-04-20T20:07:38.713099Z"
        },
        "id": "D3LZ7dNbYKS1",
        "trusted": true
      },
      "outputs": [],
      "source": [
        "import torch\n",
        "from torchvision import datasets, transforms\n",
        "import torch.nn as nn\n",
        "from PIL import Image\n",
        "from sklearn.model_selection import train_test_split\n",
        "import pandas as pd\n",
        "import os\n",
        "import torch.nn.functional as F\n",
        "import numpy as np\n",
        "from google.colab import drive\n",
        "import matplotlib.pyplot as plt\n",
        "\n",
        "seed = 42\n",
        "\n",
        "np.random.seed(seed)\n",
        "torch.manual_seed(seed)\n",
        "torch.cuda.manual_seed_all(seed)\n",
        "torch.cuda.manual_seed(seed)\n",
        "torch.backends.cudnn.benchmark = False\n",
        "torch.backends.cudnn.deterministic = True"
      ]
    },
    {
      "cell_type": "code",
      "execution_count": null,
      "metadata": {
        "colab": {
          "base_uri": "https://localhost:8080/"
        },
        "id": "ZDK5jIM9ZgnW",
        "outputId": "cd767042-ed5f-4590-d2ce-33f01b6870f5"
      },
      "outputs": [],
      "source": [
        "drive.mount('/content/drive')"
      ]
    },
    {
      "cell_type": "code",
      "execution_count": null,
      "metadata": {
        "id": "dnRjErj9a5jo"
      },
      "outputs": [],
      "source": [
        "# !unzip /content/drive/MyDrive/art_dataset.zip -d /content/drive/MyDrive/cs342fp"
      ]
    },
    {
      "cell_type": "code",
      "execution_count": null,
      "metadata": {
        "colab": {
          "base_uri": "https://localhost:8080/"
        },
        "id": "bNfsgxB-pbBI",
        "outputId": "7192173b-5c8b-42d2-b2ba-464d5e4592e2"
      },
      "outputs": [],
      "source": [
        "%cd /content/drive/MyDrive/cs342fp"
      ]
    },
    {
      "cell_type": "code",
      "execution_count": null,
      "metadata": {
        "colab": {
          "base_uri": "https://localhost:8080/",
          "height": 35
        },
        "id": "aYepgW4pq0mt",
        "outputId": "2609dfa4-a086-424d-8d85-fbd3c7639d00"
      },
      "outputs": [],
      "source": [
        "%pwd"
      ]
    },
    {
      "cell_type": "code",
      "execution_count": null,
      "metadata": {
        "colab": {
          "base_uri": "https://localhost:8080/"
        },
        "execution": {
          "iopub.execute_input": "2024-04-20T20:07:50.007306Z",
          "iopub.status.busy": "2024-04-20T20:07:50.005860Z",
          "iopub.status.idle": "2024-04-20T20:08:47.530029Z",
          "shell.execute_reply": "2024-04-20T20:08:47.528591Z",
          "shell.execute_reply.started": "2024-04-20T20:07:50.007215Z"
        },
        "id": "5zP3x8OCYKS2",
        "outputId": "64a0f8b6-a155-411e-af83-9fcf6efa7417",
        "trusted": true
      },
      "outputs": [],
      "source": [
        "parent_dir = \"kaggle/working/\"\n",
        "\n",
        "# Define valid_genres list\n",
        "valid_genres = [\n",
        "    \"Art Nouveau Modern\",\n",
        "    \"Baroque\",\n",
        "    \"Color Field Painting\",\n",
        "    \"Cubism\",\n",
        "    \"Early Renaissance\",\n",
        "    \"Expressionism\",\n",
        "    \"High Renaissance\",\n",
        "    \"Impressionism\",\n",
        "    \"Mannerism Late Renaissance\",\n",
        "    \"Minimalism\",\n",
        "    \"Naive Art Primitivism\",\n",
        "    \"Northern Renaissance\",\n",
        "    \"Realism\",\n",
        "    \"Rococo\",\n",
        "    \"Romanticism\",\n",
        "    \"Ukiyo e\"\n",
        "]\n",
        "\n",
        "# Read the CSV file into a DataFrame\n",
        "df = pd.read_csv(parent_dir + 'classes.csv')\n",
        "\n",
        "# Drop rows with genre_count greater than 1\n",
        "df = df[df['genre_count'] <= 1]\n",
        "\n",
        "# Drop columns except 'filename', 'genre', 'subset'\n",
        "df = df[['filename', 'genre', 'subset']]\n",
        "\n",
        "\n",
        "# Drop rows with genres not in the valid_genres list\n",
        "df = df[df['genre'].apply(lambda x: x[2:-2] in valid_genres)]\n",
        "print(len(df['genre'].unique()))\n",
        "\n",
        "# Reset index after dropping rows\n",
        "df.reset_index(drop=True, inplace=True)\n",
        "\n",
        "genre_counts = df['genre'].value_counts()\n",
        "print(genre_counts)\n",
        "print(min(genre_counts))\n",
        "\n",
        "df = df.groupby('genre', group_keys=False).apply(lambda x: x.sample(min(len(x), min(genre_counts))))\n",
        "\n",
        "# Reset index after dropping rows\n",
        "df.reset_index(drop=True, inplace=True)\n",
        "\n",
        "# Replace genre values with their indices in the valid_genres list\n",
        "df['genre'] = df['genre'].apply(lambda x: valid_genres.index(x[1:-1].split(',')[0].strip()[1:-1]))\n",
        "\n",
        "df = df[df['filename'].apply(lambda x: os.path.exists(parent_dir + x))]\n",
        "\n",
        "genre_counts = df['genre'].value_counts()\n",
        "print(genre_counts)\n",
        "print(min(genre_counts))"
      ]
    },
    {
      "cell_type": "code",
      "execution_count": null,
      "metadata": {
        "id": "k0An6AePYaqT"
      },
      "outputs": [],
      "source": [
        "img_max = 512"
      ]
    },
    {
      "cell_type": "code",
      "execution_count": null,
      "metadata": {
        "colab": {
          "base_uri": "https://localhost:8080/"
        },
        "execution": {
          "iopub.execute_input": "2024-04-20T20:12:58.580732Z",
          "iopub.status.busy": "2024-04-20T20:12:58.580170Z",
          "iopub.status.idle": "2024-04-20T20:13:10.803585Z",
          "shell.execute_reply": "2024-04-20T20:13:10.802271Z",
          "shell.execute_reply.started": "2024-04-20T20:12:58.580696Z"
        },
        "id": "gfZHkyORYKS3",
        "outputId": "9659746c-5db2-48bf-9939-d3eae72ffe6c",
        "trusted": true
      },
      "outputs": [],
      "source": [
        "class SimpleGatedAttention(nn.Module):\n",
        "    def __init__(self, channel_size):\n",
        "        super(SimpleGatedAttention, self).__init__()\n",
        "        self.attention_weights = nn.Sequential(\n",
        "            nn.Conv2d(channel_size * 2, channel_size, kernel_size=1),\n",
        "            nn.Sigmoid()\n",
        "        )\n",
        "\n",
        "    def forward(self, x1, x2):\n",
        "        g = self.attention_weights(torch.cat((x1, x2), dim=1))\n",
        "        return x1 * g + x2 * (1 - g)\n",
        "\n",
        "class CNNArtModel(nn.Module):\n",
        "    def __init__(self, num_classes=16):\n",
        "        super(CNNArtModel, self).__init__()\n",
        "        # Path 1 for color usage\n",
        "        self.path1_conv1 = nn.Conv2d(3, 16, kernel_size=6, padding=1)\n",
        "        self.path1_pool1 = nn.AvgPool2d(kernel_size=2, stride=2)\n",
        "        self.path1_conv2 = nn.Conv2d(16, 32, kernel_size=3, padding=1)\n",
        "        self.path1_pool2 = nn.AvgPool2d(kernel_size=2, stride=2)\n",
        "        self.path1_conv3 = nn.Conv2d(32, 64, kernel_size=3, padding=1)\n",
        "        self.path1_pool3 = nn.AvgPool2d(kernel_size=2, stride=2)\n",
        "\n",
        "        # Path 2 for textural qualities\n",
        "        self.path2_conv1 = nn.Conv2d(3, 16, kernel_size=6, padding=1)\n",
        "        self.path2_pool1 = nn.MaxPool2d(kernel_size=2, stride=2)\n",
        "        self.path2_conv2 = nn.Conv2d(16, 32, kernel_size=3, padding=1)\n",
        "        self.path2_pool2 = nn.MaxPool2d(kernel_size=2, stride=2)\n",
        "        self.path2_conv3 = nn.Conv2d(32, 64, kernel_size=3, padding=1)\n",
        "        self.path2_pool3 = nn.MaxPool2d(kernel_size=2, stride=2)\n",
        "\n",
        "        # Gated attention to merge paths\n",
        "        self.gated_attention = SimpleGatedAttention(64)\n",
        "\n",
        "        # Global average pooling and final classifier\n",
        "        self.global_avg_pool = nn.AdaptiveAvgPool2d((1, 1))\n",
        "        self.classifier = nn.Linear(64, num_classes)\n",
        "\n",
        "    def forward(self, x):\n",
        "        # Path 1\n",
        "        x1 = F.relu(self.path1_conv1(x))\n",
        "        x1 = self.path1_pool1(x1)\n",
        "        x1 = F.relu(self.path1_conv2(x1))\n",
        "        x1 = self.path1_pool2(x1)\n",
        "        x1 = F.relu(self.path1_conv3(x1))\n",
        "        x1 = self.path1_pool3(x1)\n",
        "\n",
        "        # Path 2\n",
        "        x2 = F.relu(self.path2_conv1(x))\n",
        "        x2 = self.path2_pool1(x2)\n",
        "        x2 = F.relu(self.path2_conv2(x2))\n",
        "        x2 = self.path2_pool2(x2)\n",
        "        x2 = F.relu(self.path2_conv3(x2))\n",
        "        x2 = self.path2_pool3(x2)\n",
        "\n",
        "        # Merge paths with gated attention\n",
        "        x = self.gated_attention(x1, x2)\n",
        "\n",
        "        # Global average pooling and classification\n",
        "        x = self.global_avg_pool(x)\n",
        "        x = x.view(x.size(0), -1)\n",
        "        x = self.classifier(x)\n",
        "        return x\n",
        "\n",
        "# Instantiate the model\n",
        "print(CNNArtModel(16))"
      ]
    },
    {
      "cell_type": "code",
      "execution_count": null,
      "metadata": {
        "execution": {
          "iopub.execute_input": "2024-04-20T20:13:20.570578Z",
          "iopub.status.busy": "2024-04-20T20:13:20.569127Z"
        },
        "id": "_6m_C6L2YKS3",
        "trusted": true
      },
      "outputs": [],
      "source": [
        "# Split the dataframe into train and test subsets\n",
        "train_df = df[df['subset'] == 'train']\n",
        "test_df = df[df['subset'] == 'test']\n",
        "\n",
        "class SquarePad:\n",
        "    def __call__(self, image):\n",
        "\n",
        "        padded_tensor = torch.tensor(np.array(image), dtype=torch.float).permute(2,0,1)\n",
        "\n",
        "        while padded_tensor.shape != (3,img_max,img_max):\n",
        "            h = padded_tensor.shape[1]\n",
        "            w = padded_tensor.shape[2]\n",
        "\n",
        "            max_wh = max([w, h])\n",
        "            hp = int((max_wh - w) // 2)\n",
        "            vp = int((max_wh - h) // 2)\n",
        "            padding = (hp, hp, vp, vp)\n",
        "            if hp * 2 + w < img_max:\n",
        "                padding = (hp, hp + 1, vp, vp)\n",
        "            if vp * 2 + h < img_max:\n",
        "                padding = (hp, hp, vp, vp + 1)\n",
        "\n",
        "            padding = (min(padding[0], w-1),min(padding[1], w-1),min(padding[2], h-1),min(padding[3], h-1))\n",
        "            padded_tensor = F.pad(padded_tensor,padding, mode='reflect')\n",
        "\n",
        "        # Display the image after each padding iteration\n",
        "        # image_np = padded_tensor.permute(1, 2, 0).numpy()\n",
        "        # Display the image\n",
        "        # plt.imshow(image_np/255)\n",
        "        # plt.show()\n",
        "\n",
        "        assert(padded_tensor.shape == (3,img_max,img_max))\n",
        "        return padded_tensor\n",
        "\n",
        "def resize_larger_dimension(image, size):\n",
        "    width, height = image.size\n",
        "    aspect_ratio = width / height\n",
        "    if width > height:\n",
        "        new_width = size\n",
        "        new_height = int(size / aspect_ratio)\n",
        "    else:\n",
        "        new_width = int(size * aspect_ratio)\n",
        "        new_height = size\n",
        "\n",
        "    return image.resize((new_width, new_height))\n",
        "\n",
        "transform = transforms.Compose([\n",
        "    transforms.Lambda(lambda x: resize_larger_dimension(x, img_max)),  # Resize the larger dimension to img_max while preserving aspect ratio\n",
        "    SquarePad(),\n",
        "    transforms.Normalize(mean=[0.485, 0.456, 0.406], std=[0.229, 0.224, 0.225])  # Normalize the image\n",
        "])\n",
        "\n",
        "# Define a custom dataset class\n",
        "class CustomDataset(torch.utils.data.Dataset):\n",
        "    def __init__(self, dataframe, transform=None):\n",
        "        self.dataframe = dataframe\n",
        "        self.transform = transform\n",
        "\n",
        "    def __len__(self):\n",
        "        return len(self.dataframe)\n",
        "\n",
        "    def __getitem__(self, idx):\n",
        "        filename = parent_dir + self.dataframe.iloc[idx]['filename']\n",
        "        # print(filename)\n",
        "        image = Image.open(filename).convert('RGB')\n",
        "        label = self.dataframe.iloc[idx]['genre']\n",
        "\n",
        "        if self.transform:\n",
        "            w, h = image.size\n",
        "            image = self.transform(image)\n",
        "\n",
        "        return image, label\n",
        "\n",
        "# Create custom datasets for train and test\n",
        "train_dataset = CustomDataset(train_df, transform=transform)\n",
        "test_dataset = CustomDataset(test_df, transform=transform)\n",
        "\n",
        "# Create train and test dataloaders\n",
        "train_loader = torch.utils.data.DataLoader(train_dataset, batch_size=128, shuffle=True)\n",
        "test_loader = torch.utils.data.DataLoader(test_dataset, batch_size=128, shuffle=False)"
      ]
    },
    {
      "cell_type": "code",
      "execution_count": null,
      "metadata": {
        "colab": {
          "base_uri": "https://localhost:8080/",
          "height": 1000
        },
        "id": "l3vJq2wVYKS4",
        "outputId": "bcb1f808-f47a-4163-9037-f89055823e9a"
      },
      "outputs": [],
      "source": [
        "model = CNNArtModel(16)\n",
        "\n",
        "def test(model):\n",
        "    correct = 0\n",
        "    total = 0\n",
        "    true, pred = [], []\n",
        "    with torch.no_grad():\n",
        "        for inputs, labels  in test_loader:\n",
        "            outputs = model.forward(inputs)\n",
        "            predicted = torch.argmax(outputs, dim=1) # get predicted class label for each test example.\n",
        "            total += labels.size(0)\n",
        "            correct += (predicted == labels).sum().item()\n",
        "            true.append(labels)\n",
        "            pred.append(predicted)\n",
        "    acc = (100 * correct / total)\n",
        "    print('accuracy: %0.3f' % (acc))\n",
        "    true = np.concatenate(true)\n",
        "    pred = np.concatenate(pred)\n",
        "    return acc, true, pred\n",
        "\n",
        "# Modify the train_one_epoch function to move inputs and labels to GPU\n",
        "def train_one_epoch(model, train_loader, test_loader, optimizer, criterion):\n",
        "    total_loss = 0\n",
        "    count = 0\n",
        "    for inputs, labels in train_loader:\n",
        "        optimizer.zero_grad()\n",
        "        outputs = model(inputs)\n",
        "        loss = criterion(outputs, labels)\n",
        "        loss.backward()\n",
        "        optimizer.step()\n",
        "        total_loss += loss.item()\n",
        "        count += 1\n",
        "        print(f'Train loss after iteration {count}: {total_loss/count}')\n",
        "\n",
        "    print('{:>12s} {:>7.5f}'.format('Train loss:', total_loss/count))\n",
        "\n",
        "    correct = 0\n",
        "    total = 0\n",
        "    true, pred = [], []\n",
        "    with torch.no_grad():\n",
        "        for inputs, labels  in test_loader:\n",
        "            outputs = model.forward(inputs)\n",
        "            print(outputs.shape)\n",
        "            predicted = torch.argmax(outputs, dim=1) # get predicted class label for each test example.\n",
        "            print(predicted.shape)\n",
        "            total += labels.size(0)\n",
        "            correct += (predicted == labels).sum().item()\n",
        "            true.append(labels)\n",
        "            pred.append(predicted)\n",
        "    acc = (100 * correct / total)\n",
        "    print('accuracy: %0.3f' % (acc))\n",
        "    print()\n",
        "\n",
        "# Example of using the train_loader and val_loader in a training loop\n",
        "nepoch = 5\n",
        "optimizer = torch.optim.Adam(model.parameters(), lr=0.0005)\n",
        "criterion = nn.CrossEntropyLoss()\n",
        "scheduler = torch.optim.lr_scheduler.StepLR(optimizer, step_size=1, gamma=0.1)\n",
        "\n",
        "for epoch in range(nepoch):\n",
        "    train_one_epoch(model, train_loader, test_loader, optimizer, criterion)\n",
        "    scheduler.step()\n",
        "    torch.save(model, f'art_model_{epoch}.pt')"
      ]
    }
  ],
  "metadata": {
    "accelerator": "GPU",
    "colab": {
      "gpuType": "V100",
      "machine_shape": "hm",
      "provenance": []
    },
    "kaggle": {
      "accelerator": "none",
      "dataSources": [
        {
          "datasetId": 2477766,
          "sourceId": 4202543,
          "sourceType": "datasetVersion"
        }
      ],
      "dockerImageVersionId": 30684,
      "isGpuEnabled": false,
      "isInternetEnabled": false,
      "language": "python",
      "sourceType": "notebook"
    },
    "kernelspec": {
      "display_name": "Python 3",
      "name": "python3"
    },
    "language_info": {
      "codemirror_mode": {
        "name": "ipython",
        "version": 3
      },
      "file_extension": ".py",
      "mimetype": "text/x-python",
      "name": "python",
      "nbconvert_exporter": "python",
      "pygments_lexer": "ipython3",
      "version": "3.10.13"
    }
  },
  "nbformat": 4,
  "nbformat_minor": 0
}
