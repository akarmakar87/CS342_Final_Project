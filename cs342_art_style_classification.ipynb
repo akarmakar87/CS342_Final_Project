{
  "cells": [
    {
      "cell_type": "code",
      "execution_count": 42,
      "metadata": {
        "execution": {
          "iopub.execute_input": "2024-04-20T20:07:38.713142Z",
          "iopub.status.busy": "2024-04-20T20:07:38.712641Z",
          "iopub.status.idle": "2024-04-20T20:07:50.003215Z",
          "shell.execute_reply": "2024-04-20T20:07:50.001726Z",
          "shell.execute_reply.started": "2024-04-20T20:07:38.713099Z"
        },
        "trusted": true,
        "id": "D3LZ7dNbYKS1"
      },
      "outputs": [],
      "source": [
        "import torch\n",
        "from torchvision import datasets, transforms\n",
        "import torch.nn as nn\n",
        "from PIL import Image\n",
        "from sklearn.model_selection import train_test_split\n",
        "import pandas as pd\n",
        "import os\n",
        "import torch.nn.functional as F\n",
        "import numpy as np\n",
        "from google.colab import drive\n",
        "\n",
        "seed = 42\n",
        "\n",
        "np.random.seed(seed)\n",
        "torch.manual_seed(seed)\n",
        "torch.cuda.manual_seed_all(seed)\n",
        "torch.cuda.manual_seed(seed)\n",
        "torch.backends.cudnn.benchmark = False\n",
        "torch.backends.cudnn.deterministic = True"
      ]
    },
    {
      "cell_type": "code",
      "source": [
        "drive.mount('/content/drive')"
      ],
      "metadata": {
        "id": "ZDK5jIM9ZgnW",
        "colab": {
          "base_uri": "https://localhost:8080/"
        },
        "outputId": "cd767042-ed5f-4590-d2ce-33f01b6870f5"
      },
      "execution_count": 43,
      "outputs": [
        {
          "output_type": "stream",
          "name": "stdout",
          "text": [
            "Drive already mounted at /content/drive; to attempt to forcibly remount, call drive.mount(\"/content/drive\", force_remount=True).\n"
          ]
        }
      ]
    },
    {
      "cell_type": "code",
      "source": [
        "# !unzip /content/drive/MyDrive/art_dataset.zip -d /content/drive/MyDrive/cs342fp"
      ],
      "metadata": {
        "id": "dnRjErj9a5jo"
      },
      "execution_count": 44,
      "outputs": []
    },
    {
      "cell_type": "code",
      "source": [
        "%cd /content/drive/MyDrive/cs342fp"
      ],
      "metadata": {
        "colab": {
          "base_uri": "https://localhost:8080/"
        },
        "id": "bNfsgxB-pbBI",
        "outputId": "7192173b-5c8b-42d2-b2ba-464d5e4592e2"
      },
      "execution_count": 45,
      "outputs": [
        {
          "output_type": "stream",
          "name": "stdout",
          "text": [
            "/content/drive/MyDrive/cs342fp\n"
          ]
        }
      ]
    },
    {
      "cell_type": "code",
      "source": [
        "%pwd"
      ],
      "metadata": {
        "colab": {
          "base_uri": "https://localhost:8080/",
          "height": 35
        },
        "id": "aYepgW4pq0mt",
        "outputId": "2609dfa4-a086-424d-8d85-fbd3c7639d00"
      },
      "execution_count": 46,
      "outputs": [
        {
          "output_type": "execute_result",
          "data": {
            "text/plain": [
              "'/content/drive/MyDrive/cs342fp'"
            ],
            "application/vnd.google.colaboratory.intrinsic+json": {
              "type": "string"
            }
          },
          "metadata": {},
          "execution_count": 46
        }
      ]
    },
    {
      "cell_type": "code",
      "execution_count": 47,
      "metadata": {
        "execution": {
          "iopub.execute_input": "2024-04-20T20:07:50.007306Z",
          "iopub.status.busy": "2024-04-20T20:07:50.005860Z",
          "iopub.status.idle": "2024-04-20T20:08:47.530029Z",
          "shell.execute_reply": "2024-04-20T20:08:47.528591Z",
          "shell.execute_reply.started": "2024-04-20T20:07:50.007215Z"
        },
        "trusted": true,
        "id": "5zP3x8OCYKS2",
        "outputId": "64a0f8b6-a155-411e-af83-9fcf6efa7417",
        "colab": {
          "base_uri": "https://localhost:8080/"
        }
      },
      "outputs": [
        {
          "output_type": "stream",
          "name": "stdout",
          "text": [
            "16\n",
            "genre\n",
            "['Impressionism']                 12847\n",
            "['Realism']                       10534\n",
            "['Romanticism']                    6896\n",
            "['Expressionism']                  6280\n",
            "['Baroque']                        4202\n",
            "['Art Nouveau Modern']             4155\n",
            "['Northern Renaissance']           2550\n",
            "['Naive Art Primitivism']          2299\n",
            "['Rococo']                         2070\n",
            "['Cubism']                         2002\n",
            "['Color Field Painting']           1486\n",
            "['Early Renaissance']              1387\n",
            "['High Renaissance']               1339\n",
            "['Mannerism Late Renaissance']     1275\n",
            "['Minimalism']                     1250\n",
            "['Ukiyo e']                        1159\n",
            "Name: count, dtype: int64\n",
            "1159\n",
            "genre\n",
            "3     657\n",
            "9     439\n",
            "12    140\n",
            "5      10\n",
            "Name: count, dtype: int64\n",
            "10\n"
          ]
        }
      ],
      "source": [
        "parent_dir = \"kaggle/working/\"\n",
        "\n",
        "# Define valid_genres list\n",
        "valid_genres = [\n",
        "    \"Art Nouveau Modern\",\n",
        "    \"Baroque\",\n",
        "    \"Color Field Painting\",\n",
        "    \"Cubism\",\n",
        "    \"Early Renaissance\",\n",
        "    \"Expressionism\",\n",
        "    \"High Renaissance\",\n",
        "    \"Impressionism\",\n",
        "    \"Mannerism Late Renaissance\",\n",
        "    \"Minimalism\",\n",
        "    \"Naive Art Primitivism\",\n",
        "    \"Northern Renaissance\",\n",
        "    \"Realism\",\n",
        "    \"Rococo\",\n",
        "    \"Romanticism\",\n",
        "    \"Ukiyo e\"\n",
        "]\n",
        "\n",
        "# Read the CSV file into a DataFrame\n",
        "df = pd.read_csv(parent_dir + 'classes.csv')\n",
        "\n",
        "# Drop rows with genre_count greater than 1\n",
        "df = df[df['genre_count'] <= 1]\n",
        "\n",
        "# Drop columns except 'filename', 'genre', 'subset'\n",
        "df = df[['filename', 'genre', 'subset']]\n",
        "\n",
        "\n",
        "# Drop rows with genres not in the valid_genres list\n",
        "df = df[df['genre'].apply(lambda x: x[2:-2] in valid_genres)]\n",
        "print(len(df['genre'].unique()))\n",
        "\n",
        "# Reset index after dropping rows\n",
        "df.reset_index(drop=True, inplace=True)\n",
        "\n",
        "genre_counts = df['genre'].value_counts()\n",
        "print(genre_counts)\n",
        "print(min(genre_counts))\n",
        "\n",
        "df = df.groupby('genre', group_keys=False).apply(lambda x: x.sample(min(len(x), min(genre_counts))))\n",
        "\n",
        "# Reset index after dropping rows\n",
        "df.reset_index(drop=True, inplace=True)\n",
        "\n",
        "# Replace genre values with their indices in the valid_genres list\n",
        "df['genre'] = df['genre'].apply(lambda x: valid_genres.index(x[1:-1].split(',')[0].strip()[1:-1]))\n",
        "\n",
        "df = df[df['filename'].apply(lambda x: os.path.exists(parent_dir + x))]\n",
        "\n",
        "genre_counts = df['genre'].value_counts()\n",
        "print(genre_counts)\n",
        "print(min(genre_counts))"
      ]
    },
    {
      "cell_type": "code",
      "execution_count": 48,
      "metadata": {
        "execution": {
          "iopub.execute_input": "2024-04-20T20:08:47.532088Z",
          "iopub.status.busy": "2024-04-20T20:08:47.531673Z",
          "iopub.status.idle": "2024-04-20T20:08:47.544189Z",
          "shell.execute_reply": "2024-04-20T20:08:47.543209Z",
          "shell.execute_reply.started": "2024-04-20T20:08:47.532052Z"
        },
        "trusted": true,
        "id": "DQQ-92lxYKS3",
        "outputId": "e4d13f69-4513-4eba-dff2-af30b50be08d",
        "colab": {
          "base_uri": "https://localhost:8080/"
        }
      },
      "outputs": [
        {
          "output_type": "stream",
          "name": "stdout",
          "text": [
            "                                               filename  genre subset\n",
            "3478  Cubism/rufino-tamayo_woman-with-pineapple-1941...      3  train\n",
            "3479  Cubism/amadeo-de-souza-cardoso_basque-landscap...      3  train\n",
            "3480           Cubism/jack-bush_red-white-blue-1946.jpg      3  train\n",
            "3481                   Cubism/m.-h.-maxy_still-life.jpg      3   test\n",
            "3485  Cubism/fernand-leger_still-life-in-the-tankard...      3  train\n"
          ]
        }
      ],
      "source": [
        "print(df.head())"
      ]
    },
    {
      "cell_type": "code",
      "source": [
        "img_max = 512"
      ],
      "metadata": {
        "id": "k0An6AePYaqT"
      },
      "execution_count": 49,
      "outputs": []
    },
    {
      "cell_type": "code",
      "execution_count": 58,
      "metadata": {
        "execution": {
          "iopub.execute_input": "2024-04-20T20:12:58.580732Z",
          "iopub.status.busy": "2024-04-20T20:12:58.580170Z",
          "iopub.status.idle": "2024-04-20T20:13:10.803585Z",
          "shell.execute_reply": "2024-04-20T20:13:10.802271Z",
          "shell.execute_reply.started": "2024-04-20T20:12:58.580696Z"
        },
        "trusted": true,
        "id": "gfZHkyORYKS3",
        "outputId": "9659746c-5db2-48bf-9939-d3eae72ffe6c",
        "colab": {
          "base_uri": "https://localhost:8080/"
        }
      },
      "outputs": [
        {
          "output_type": "stream",
          "name": "stdout",
          "text": [
            "CNNArtModel(\n",
            "  (path1_conv1): Conv2d(3, 16, kernel_size=(6, 6), stride=(1, 1), padding=(1, 1))\n",
            "  (path1_pool1): AvgPool2d(kernel_size=2, stride=2, padding=0)\n",
            "  (path1_conv2): Conv2d(16, 32, kernel_size=(3, 3), stride=(1, 1), padding=(1, 1))\n",
            "  (path1_pool2): AvgPool2d(kernel_size=2, stride=2, padding=0)\n",
            "  (path1_conv3): Conv2d(32, 64, kernel_size=(3, 3), stride=(1, 1), padding=(1, 1))\n",
            "  (path1_pool3): AvgPool2d(kernel_size=2, stride=2, padding=0)\n",
            "  (path2_conv1): Conv2d(3, 16, kernel_size=(6, 6), stride=(1, 1), padding=(1, 1))\n",
            "  (path2_pool1): MaxPool2d(kernel_size=2, stride=2, padding=0, dilation=1, ceil_mode=False)\n",
            "  (path2_conv2): Conv2d(16, 32, kernel_size=(3, 3), stride=(1, 1), padding=(1, 1))\n",
            "  (path2_pool2): MaxPool2d(kernel_size=2, stride=2, padding=0, dilation=1, ceil_mode=False)\n",
            "  (path2_conv3): Conv2d(32, 64, kernel_size=(3, 3), stride=(1, 1), padding=(1, 1))\n",
            "  (path2_pool3): MaxPool2d(kernel_size=2, stride=2, padding=0, dilation=1, ceil_mode=False)\n",
            "  (gated_attention): SimpleGatedAttention(\n",
            "    (attention_weights): Sequential(\n",
            "      (0): Conv2d(128, 64, kernel_size=(1, 1), stride=(1, 1))\n",
            "      (1): Sigmoid()\n",
            "    )\n",
            "  )\n",
            "  (global_avg_pool): AdaptiveAvgPool2d(output_size=(1, 1))\n",
            "  (classifier): Linear(in_features=64, out_features=16, bias=True)\n",
            ")\n"
          ]
        }
      ],
      "source": [
        "class SimpleGatedAttention(nn.Module):\n",
        "    def __init__(self, channel_size):\n",
        "        super(SimpleGatedAttention, self).__init__()\n",
        "        self.attention_weights = nn.Sequential(\n",
        "            nn.Conv2d(channel_size * 2, channel_size, kernel_size=1),\n",
        "            nn.Sigmoid()\n",
        "        )\n",
        "\n",
        "    def forward(self, x1, x2):\n",
        "        g = self.attention_weights(torch.cat((x1, x2), dim=1))\n",
        "        return x1 * g + x2 * (1 - g)\n",
        "\n",
        "class CNNArtModel(nn.Module):\n",
        "    def __init__(self, num_classes=16):\n",
        "        super(CNNArtModel, self).__init__()\n",
        "        # Path 1 for color usage\n",
        "        self.path1_conv1 = nn.Conv2d(3, 16, kernel_size=6, padding=1)\n",
        "        self.path1_pool1 = nn.AvgPool2d(kernel_size=2, stride=2)\n",
        "        self.path1_conv2 = nn.Conv2d(16, 32, kernel_size=3, padding=1)\n",
        "        self.path1_pool2 = nn.AvgPool2d(kernel_size=2, stride=2)\n",
        "        self.path1_conv3 = nn.Conv2d(32, 64, kernel_size=3, padding=1)\n",
        "        self.path1_pool3 = nn.AvgPool2d(kernel_size=2, stride=2)\n",
        "\n",
        "        # Path 2 for textural qualities\n",
        "        self.path2_conv1 = nn.Conv2d(3, 16, kernel_size=6, padding=1)\n",
        "        self.path2_pool1 = nn.MaxPool2d(kernel_size=2, stride=2)\n",
        "        self.path2_conv2 = nn.Conv2d(16, 32, kernel_size=3, padding=1)\n",
        "        self.path2_pool2 = nn.MaxPool2d(kernel_size=2, stride=2)\n",
        "        self.path2_conv3 = nn.Conv2d(32, 64, kernel_size=3, padding=1)\n",
        "        self.path2_pool3 = nn.MaxPool2d(kernel_size=2, stride=2)\n",
        "\n",
        "        # Gated attention to merge paths\n",
        "        self.gated_attention = SimpleGatedAttention(64)\n",
        "\n",
        "        # Global average pooling and final classifier\n",
        "        self.global_avg_pool = nn.AdaptiveAvgPool2d((1, 1))\n",
        "        self.classifier = nn.Linear(64, num_classes)\n",
        "\n",
        "    def forward(self, x):\n",
        "        # Path 1\n",
        "        x1 = F.relu(self.path1_conv1(x))\n",
        "        x1 = self.path1_pool1(x1)\n",
        "        x1 = F.relu(self.path1_conv2(x1))\n",
        "        x1 = self.path1_pool2(x1)\n",
        "        x1 = F.relu(self.path1_conv3(x1))\n",
        "        x1 = self.path1_pool3(x1)\n",
        "\n",
        "        # Path 2\n",
        "        x2 = F.relu(self.path2_conv1(x))\n",
        "        x2 = self.path2_pool1(x2)\n",
        "        x2 = F.relu(self.path2_conv2(x2))\n",
        "        x2 = self.path2_pool2(x2)\n",
        "        x2 = F.relu(self.path2_conv3(x2))\n",
        "        x2 = self.path2_pool3(x2)\n",
        "\n",
        "        # Merge paths with gated attention\n",
        "        x = self.gated_attention(x1, x2)\n",
        "\n",
        "        # Global average pooling and classification\n",
        "        x = self.global_avg_pool(x)\n",
        "        x = x.view(x.size(0), -1)\n",
        "        x = self.classifier(x)\n",
        "        return x\n",
        "\n",
        "# Instantiate the model\n",
        "print(CNNArtModel(16))"
      ]
    },
    {
      "cell_type": "code",
      "execution_count": 56,
      "metadata": {
        "execution": {
          "iopub.execute_input": "2024-04-20T20:13:20.570578Z",
          "iopub.status.busy": "2024-04-20T20:13:20.569127Z"
        },
        "trusted": true,
        "id": "_6m_C6L2YKS3"
      },
      "outputs": [],
      "source": [
        "# Split the dataframe into train and test subsets\n",
        "train_df = df[df['subset'] == 'train']\n",
        "test_df = df[df['subset'] == 'test']\n",
        "\n",
        "\n",
        "class SquarePad:\n",
        "    def __call__(self, image):\n",
        "        w, h = image.size\n",
        "        max_wh = max([w, h])\n",
        "        hp = int((max_wh - w) // 2)\n",
        "        vp = int((max_wh - h) // 2)\n",
        "        padding = (hp, hp, vp, vp)\n",
        "        if hp * 2 + w < img_max:\n",
        "            padding = (hp, hp + 1, vp, vp)\n",
        "        if vp * 2 + h < img_max:\n",
        "            padding = (hp, hp, vp, vp + 1)\n",
        "\n",
        "        image_tensor = torch.tensor(np.array(image), dtype=torch.float).permute(2,0,1)\n",
        "        padded_tensor = F.pad(image_tensor,padding, mode='replicate')\n",
        "\n",
        "        return padded_tensor\n",
        "\n",
        "\n",
        "def resize_larger_dimension(image, size):\n",
        "    width, height = image.size\n",
        "    aspect_ratio = width / height\n",
        "    if width > height:\n",
        "        new_width = size\n",
        "        new_height = int(size / aspect_ratio)\n",
        "    else:\n",
        "        new_width = int(size * aspect_ratio)\n",
        "        new_height = size\n",
        "\n",
        "    return image.resize((new_width, new_height))\n",
        "\n",
        "transform = transforms.Compose([\n",
        "    transforms.Lambda(lambda x: resize_larger_dimension(x, img_max)),  # Resize the larger dimension to img_max while preserving aspect ratio\n",
        "    SquarePad(),\n",
        "#     transforms.ToTensor(),\n",
        "    transforms.Normalize(mean=[0.485, 0.456, 0.406], std=[0.229, 0.224, 0.225])  # Normalize the image\n",
        "])\n",
        "\n",
        "# Define a custom dataset class\n",
        "class CustomDataset(torch.utils.data.Dataset):\n",
        "    def __init__(self, dataframe, transform=None):\n",
        "        self.dataframe = dataframe\n",
        "        self.transform = transform\n",
        "\n",
        "    def __len__(self):\n",
        "        return len(self.dataframe)\n",
        "\n",
        "    def __getitem__(self, idx):\n",
        "        filename = parent_dir + self.dataframe.iloc[idx]['filename']\n",
        "        image = Image.open(filename).convert('RGB')\n",
        "        label = self.dataframe.iloc[idx]['genre']\n",
        "\n",
        "        if self.transform:\n",
        "            w, h = image.size\n",
        "            image = self.transform(image)\n",
        "\n",
        "        return image, label\n",
        "\n",
        "# Create custom datasets for train and test\n",
        "train_dataset = CustomDataset(train_df, transform=transform)\n",
        "test_dataset = CustomDataset(test_df, transform=transform)\n",
        "\n",
        "# Create train and test dataloaders\n",
        "train_loader = torch.utils.data.DataLoader(train_dataset, batch_size=128, shuffle=True)\n",
        "test_loader = torch.utils.data.DataLoader(test_dataset, batch_size=128, shuffle=False)"
      ]
    },
    {
      "cell_type": "code",
      "execution_count": 63,
      "metadata": {
        "id": "l3vJq2wVYKS4",
        "colab": {
          "base_uri": "https://localhost:8080/",
          "height": 1000
        },
        "outputId": "bcb1f808-f47a-4163-9037-f89055823e9a"
      },
      "outputs": [
        {
          "output_type": "stream",
          "name": "stdout",
          "text": [
            "cpu\n",
            "Train loss after iteration 1: 45.79897689819336\n",
            "Train loss after iteration 2: 30.54946517944336\n",
            "Train loss after iteration 3: 25.067013104756672\n",
            "Train loss after iteration 4: 22.904696702957153\n",
            "Train loss after iteration 5: 20.57859935760498\n",
            "Train loss after iteration 6: 17.488812287648518\n",
            "Train loss after iteration 7: 15.245270473616463\n",
            "Train loss after iteration 8: 13.80319856107235\n",
            " Train loss: 13.80320\n",
            "torch.Size([128, 16])\n",
            "torch.Size([128])\n",
            "torch.Size([117, 16])\n",
            "torch.Size([117])\n",
            "accuracy: 66.122\n",
            "\n",
            "Train loss after iteration 1: 1.2548848390579224\n",
            "Train loss after iteration 2: 1.283684492111206\n",
            "Train loss after iteration 3: 1.5257562796274822\n",
            "Train loss after iteration 4: 1.3778272718191147\n",
            "Train loss after iteration 5: 1.389120376110077\n",
            "Train loss after iteration 6: 1.4925422966480255\n",
            "Train loss after iteration 7: 1.477960237434932\n",
            "Train loss after iteration 8: 1.3908010125160217\n",
            " Train loss: 1.39080\n",
            "torch.Size([128, 16])\n",
            "torch.Size([128])\n",
            "torch.Size([117, 16])\n",
            "torch.Size([117])\n",
            "accuracy: 65.306\n",
            "\n",
            "Train loss after iteration 1: 0.6349318027496338\n",
            "Train loss after iteration 2: 1.090693175792694\n",
            "Train loss after iteration 3: 1.0590607325236003\n",
            "Train loss after iteration 4: 1.0149326175451279\n",
            "Train loss after iteration 5: 1.0280573487281799\n",
            "Train loss after iteration 6: 1.059144804875056\n",
            "Train loss after iteration 7: 1.1335507035255432\n",
            "Train loss after iteration 8: 1.1114324033260345\n",
            " Train loss: 1.11143\n",
            "torch.Size([128, 16])\n",
            "torch.Size([128])\n",
            "torch.Size([117, 16])\n",
            "torch.Size([117])\n",
            "accuracy: 71.837\n",
            "\n",
            "Train loss after iteration 1: 0.7842849493026733\n",
            "Train loss after iteration 2: 1.0044843554496765\n",
            "Train loss after iteration 3: 0.9323626557985941\n",
            "Train loss after iteration 4: 0.9425444155931473\n",
            "Train loss after iteration 5: 0.9428537845611572\n",
            "Train loss after iteration 6: 0.9776698350906372\n",
            "Train loss after iteration 7: 1.041649682181222\n",
            "Train loss after iteration 8: 0.9984024316072464\n",
            " Train loss: 0.99840\n",
            "torch.Size([128, 16])\n",
            "torch.Size([128])\n",
            "torch.Size([117, 16])\n",
            "torch.Size([117])\n",
            "accuracy: 67.755\n",
            "\n",
            "Train loss after iteration 1: 0.7203468084335327\n",
            "Train loss after iteration 2: 1.1586732268333435\n"
          ]
        },
        {
          "output_type": "error",
          "ename": "KeyboardInterrupt",
          "evalue": "",
          "traceback": [
            "\u001b[0;31m---------------------------------------------------------------------------\u001b[0m",
            "\u001b[0;31mKeyboardInterrupt\u001b[0m                         Traceback (most recent call last)",
            "\u001b[0;32m<ipython-input-63-bbf55b5d00d9>\u001b[0m in \u001b[0;36m<cell line: 64>\u001b[0;34m()\u001b[0m\n\u001b[1;32m     63\u001b[0m \u001b[0;34m\u001b[0m\u001b[0m\n\u001b[1;32m     64\u001b[0m \u001b[0;32mfor\u001b[0m \u001b[0mepoch\u001b[0m \u001b[0;32min\u001b[0m \u001b[0mrange\u001b[0m\u001b[0;34m(\u001b[0m\u001b[0mnepoch\u001b[0m\u001b[0;34m)\u001b[0m\u001b[0;34m:\u001b[0m\u001b[0;34m\u001b[0m\u001b[0;34m\u001b[0m\u001b[0m\n\u001b[0;32m---> 65\u001b[0;31m     \u001b[0mtrain_one_epoch\u001b[0m\u001b[0;34m(\u001b[0m\u001b[0mmodel\u001b[0m\u001b[0;34m,\u001b[0m \u001b[0mtrain_loader\u001b[0m\u001b[0;34m,\u001b[0m \u001b[0mtest_loader\u001b[0m\u001b[0;34m,\u001b[0m \u001b[0moptimizer\u001b[0m\u001b[0;34m,\u001b[0m \u001b[0mcriterion\u001b[0m\u001b[0;34m)\u001b[0m\u001b[0;34m\u001b[0m\u001b[0;34m\u001b[0m\u001b[0m\n\u001b[0m\u001b[1;32m     66\u001b[0m     \u001b[0mscheduler\u001b[0m\u001b[0;34m.\u001b[0m\u001b[0mstep\u001b[0m\u001b[0;34m(\u001b[0m\u001b[0;34m)\u001b[0m\u001b[0;34m\u001b[0m\u001b[0;34m\u001b[0m\u001b[0m\n\u001b[1;32m     67\u001b[0m     \u001b[0mtorch\u001b[0m\u001b[0;34m.\u001b[0m\u001b[0msave\u001b[0m\u001b[0;34m(\u001b[0m\u001b[0mmodel\u001b[0m\u001b[0;34m,\u001b[0m \u001b[0;34mf'art_model_512_128_addsched_1_25_001_6k{epoch}.pt'\u001b[0m\u001b[0;34m)\u001b[0m\u001b[0;34m\u001b[0m\u001b[0;34m\u001b[0m\u001b[0m\n",
            "\u001b[0;32m<ipython-input-63-bbf55b5d00d9>\u001b[0m in \u001b[0;36mtrain_one_epoch\u001b[0;34m(model, train_loader, test_loader, optimizer, criterion)\u001b[0m\n\u001b[1;32m     26\u001b[0m     \u001b[0mtotal_loss\u001b[0m \u001b[0;34m=\u001b[0m \u001b[0;36m0\u001b[0m\u001b[0;34m\u001b[0m\u001b[0;34m\u001b[0m\u001b[0m\n\u001b[1;32m     27\u001b[0m     \u001b[0mcount\u001b[0m \u001b[0;34m=\u001b[0m \u001b[0;36m0\u001b[0m\u001b[0;34m\u001b[0m\u001b[0;34m\u001b[0m\u001b[0m\n\u001b[0;32m---> 28\u001b[0;31m     \u001b[0;32mfor\u001b[0m \u001b[0minputs\u001b[0m\u001b[0;34m,\u001b[0m \u001b[0mlabels\u001b[0m \u001b[0;32min\u001b[0m \u001b[0mtrain_loader\u001b[0m\u001b[0;34m:\u001b[0m\u001b[0;34m\u001b[0m\u001b[0;34m\u001b[0m\u001b[0m\n\u001b[0m\u001b[1;32m     29\u001b[0m         \u001b[0minputs\u001b[0m\u001b[0;34m,\u001b[0m \u001b[0mlabels\u001b[0m \u001b[0;34m=\u001b[0m \u001b[0minputs\u001b[0m\u001b[0;34m.\u001b[0m\u001b[0mto\u001b[0m\u001b[0;34m(\u001b[0m\u001b[0mdevice\u001b[0m\u001b[0;34m)\u001b[0m\u001b[0;34m,\u001b[0m \u001b[0mlabels\u001b[0m\u001b[0;34m.\u001b[0m\u001b[0mto\u001b[0m\u001b[0;34m(\u001b[0m\u001b[0mdevice\u001b[0m\u001b[0;34m)\u001b[0m  \u001b[0;31m# Move data to GPU\u001b[0m\u001b[0;34m\u001b[0m\u001b[0;34m\u001b[0m\u001b[0m\n\u001b[1;32m     30\u001b[0m         \u001b[0moptimizer\u001b[0m\u001b[0;34m.\u001b[0m\u001b[0mzero_grad\u001b[0m\u001b[0;34m(\u001b[0m\u001b[0;34m)\u001b[0m\u001b[0;34m\u001b[0m\u001b[0;34m\u001b[0m\u001b[0m\n",
            "\u001b[0;32m/usr/local/lib/python3.10/dist-packages/torch/utils/data/dataloader.py\u001b[0m in \u001b[0;36m__next__\u001b[0;34m(self)\u001b[0m\n\u001b[1;32m    629\u001b[0m                 \u001b[0;31m# TODO(https://github.com/pytorch/pytorch/issues/76750)\u001b[0m\u001b[0;34m\u001b[0m\u001b[0;34m\u001b[0m\u001b[0m\n\u001b[1;32m    630\u001b[0m                 \u001b[0mself\u001b[0m\u001b[0;34m.\u001b[0m\u001b[0m_reset\u001b[0m\u001b[0;34m(\u001b[0m\u001b[0;34m)\u001b[0m  \u001b[0;31m# type: ignore[call-arg]\u001b[0m\u001b[0;34m\u001b[0m\u001b[0;34m\u001b[0m\u001b[0m\n\u001b[0;32m--> 631\u001b[0;31m             \u001b[0mdata\u001b[0m \u001b[0;34m=\u001b[0m \u001b[0mself\u001b[0m\u001b[0;34m.\u001b[0m\u001b[0m_next_data\u001b[0m\u001b[0;34m(\u001b[0m\u001b[0;34m)\u001b[0m\u001b[0;34m\u001b[0m\u001b[0;34m\u001b[0m\u001b[0m\n\u001b[0m\u001b[1;32m    632\u001b[0m             \u001b[0mself\u001b[0m\u001b[0;34m.\u001b[0m\u001b[0m_num_yielded\u001b[0m \u001b[0;34m+=\u001b[0m \u001b[0;36m1\u001b[0m\u001b[0;34m\u001b[0m\u001b[0;34m\u001b[0m\u001b[0m\n\u001b[1;32m    633\u001b[0m             \u001b[0;32mif\u001b[0m \u001b[0mself\u001b[0m\u001b[0;34m.\u001b[0m\u001b[0m_dataset_kind\u001b[0m \u001b[0;34m==\u001b[0m \u001b[0m_DatasetKind\u001b[0m\u001b[0;34m.\u001b[0m\u001b[0mIterable\u001b[0m \u001b[0;32mand\u001b[0m\u001b[0;31m \u001b[0m\u001b[0;31m\\\u001b[0m\u001b[0;34m\u001b[0m\u001b[0;34m\u001b[0m\u001b[0m\n",
            "\u001b[0;32m/usr/local/lib/python3.10/dist-packages/torch/utils/data/dataloader.py\u001b[0m in \u001b[0;36m_next_data\u001b[0;34m(self)\u001b[0m\n\u001b[1;32m    673\u001b[0m     \u001b[0;32mdef\u001b[0m \u001b[0m_next_data\u001b[0m\u001b[0;34m(\u001b[0m\u001b[0mself\u001b[0m\u001b[0;34m)\u001b[0m\u001b[0;34m:\u001b[0m\u001b[0;34m\u001b[0m\u001b[0;34m\u001b[0m\u001b[0m\n\u001b[1;32m    674\u001b[0m         \u001b[0mindex\u001b[0m \u001b[0;34m=\u001b[0m \u001b[0mself\u001b[0m\u001b[0;34m.\u001b[0m\u001b[0m_next_index\u001b[0m\u001b[0;34m(\u001b[0m\u001b[0;34m)\u001b[0m  \u001b[0;31m# may raise StopIteration\u001b[0m\u001b[0;34m\u001b[0m\u001b[0;34m\u001b[0m\u001b[0m\n\u001b[0;32m--> 675\u001b[0;31m         \u001b[0mdata\u001b[0m \u001b[0;34m=\u001b[0m \u001b[0mself\u001b[0m\u001b[0;34m.\u001b[0m\u001b[0m_dataset_fetcher\u001b[0m\u001b[0;34m.\u001b[0m\u001b[0mfetch\u001b[0m\u001b[0;34m(\u001b[0m\u001b[0mindex\u001b[0m\u001b[0;34m)\u001b[0m  \u001b[0;31m# may raise StopIteration\u001b[0m\u001b[0;34m\u001b[0m\u001b[0;34m\u001b[0m\u001b[0m\n\u001b[0m\u001b[1;32m    676\u001b[0m         \u001b[0;32mif\u001b[0m \u001b[0mself\u001b[0m\u001b[0;34m.\u001b[0m\u001b[0m_pin_memory\u001b[0m\u001b[0;34m:\u001b[0m\u001b[0;34m\u001b[0m\u001b[0;34m\u001b[0m\u001b[0m\n\u001b[1;32m    677\u001b[0m             \u001b[0mdata\u001b[0m \u001b[0;34m=\u001b[0m \u001b[0m_utils\u001b[0m\u001b[0;34m.\u001b[0m\u001b[0mpin_memory\u001b[0m\u001b[0;34m.\u001b[0m\u001b[0mpin_memory\u001b[0m\u001b[0;34m(\u001b[0m\u001b[0mdata\u001b[0m\u001b[0;34m,\u001b[0m \u001b[0mself\u001b[0m\u001b[0;34m.\u001b[0m\u001b[0m_pin_memory_device\u001b[0m\u001b[0;34m)\u001b[0m\u001b[0;34m\u001b[0m\u001b[0;34m\u001b[0m\u001b[0m\n",
            "\u001b[0;32m/usr/local/lib/python3.10/dist-packages/torch/utils/data/_utils/fetch.py\u001b[0m in \u001b[0;36mfetch\u001b[0;34m(self, possibly_batched_index)\u001b[0m\n\u001b[1;32m     49\u001b[0m                 \u001b[0mdata\u001b[0m \u001b[0;34m=\u001b[0m \u001b[0mself\u001b[0m\u001b[0;34m.\u001b[0m\u001b[0mdataset\u001b[0m\u001b[0;34m.\u001b[0m\u001b[0m__getitems__\u001b[0m\u001b[0;34m(\u001b[0m\u001b[0mpossibly_batched_index\u001b[0m\u001b[0;34m)\u001b[0m\u001b[0;34m\u001b[0m\u001b[0;34m\u001b[0m\u001b[0m\n\u001b[1;32m     50\u001b[0m             \u001b[0;32melse\u001b[0m\u001b[0;34m:\u001b[0m\u001b[0;34m\u001b[0m\u001b[0;34m\u001b[0m\u001b[0m\n\u001b[0;32m---> 51\u001b[0;31m                 \u001b[0mdata\u001b[0m \u001b[0;34m=\u001b[0m \u001b[0;34m[\u001b[0m\u001b[0mself\u001b[0m\u001b[0;34m.\u001b[0m\u001b[0mdataset\u001b[0m\u001b[0;34m[\u001b[0m\u001b[0midx\u001b[0m\u001b[0;34m]\u001b[0m \u001b[0;32mfor\u001b[0m \u001b[0midx\u001b[0m \u001b[0;32min\u001b[0m \u001b[0mpossibly_batched_index\u001b[0m\u001b[0;34m]\u001b[0m\u001b[0;34m\u001b[0m\u001b[0;34m\u001b[0m\u001b[0m\n\u001b[0m\u001b[1;32m     52\u001b[0m         \u001b[0;32melse\u001b[0m\u001b[0;34m:\u001b[0m\u001b[0;34m\u001b[0m\u001b[0;34m\u001b[0m\u001b[0m\n\u001b[1;32m     53\u001b[0m             \u001b[0mdata\u001b[0m \u001b[0;34m=\u001b[0m \u001b[0mself\u001b[0m\u001b[0;34m.\u001b[0m\u001b[0mdataset\u001b[0m\u001b[0;34m[\u001b[0m\u001b[0mpossibly_batched_index\u001b[0m\u001b[0;34m]\u001b[0m\u001b[0;34m\u001b[0m\u001b[0;34m\u001b[0m\u001b[0m\n",
            "\u001b[0;32m/usr/local/lib/python3.10/dist-packages/torch/utils/data/_utils/fetch.py\u001b[0m in \u001b[0;36m<listcomp>\u001b[0;34m(.0)\u001b[0m\n\u001b[1;32m     49\u001b[0m                 \u001b[0mdata\u001b[0m \u001b[0;34m=\u001b[0m \u001b[0mself\u001b[0m\u001b[0;34m.\u001b[0m\u001b[0mdataset\u001b[0m\u001b[0;34m.\u001b[0m\u001b[0m__getitems__\u001b[0m\u001b[0;34m(\u001b[0m\u001b[0mpossibly_batched_index\u001b[0m\u001b[0;34m)\u001b[0m\u001b[0;34m\u001b[0m\u001b[0;34m\u001b[0m\u001b[0m\n\u001b[1;32m     50\u001b[0m             \u001b[0;32melse\u001b[0m\u001b[0;34m:\u001b[0m\u001b[0;34m\u001b[0m\u001b[0;34m\u001b[0m\u001b[0m\n\u001b[0;32m---> 51\u001b[0;31m                 \u001b[0mdata\u001b[0m \u001b[0;34m=\u001b[0m \u001b[0;34m[\u001b[0m\u001b[0mself\u001b[0m\u001b[0;34m.\u001b[0m\u001b[0mdataset\u001b[0m\u001b[0;34m[\u001b[0m\u001b[0midx\u001b[0m\u001b[0;34m]\u001b[0m \u001b[0;32mfor\u001b[0m \u001b[0midx\u001b[0m \u001b[0;32min\u001b[0m \u001b[0mpossibly_batched_index\u001b[0m\u001b[0;34m]\u001b[0m\u001b[0;34m\u001b[0m\u001b[0;34m\u001b[0m\u001b[0m\n\u001b[0m\u001b[1;32m     52\u001b[0m         \u001b[0;32melse\u001b[0m\u001b[0;34m:\u001b[0m\u001b[0;34m\u001b[0m\u001b[0;34m\u001b[0m\u001b[0m\n\u001b[1;32m     53\u001b[0m             \u001b[0mdata\u001b[0m \u001b[0;34m=\u001b[0m \u001b[0mself\u001b[0m\u001b[0;34m.\u001b[0m\u001b[0mdataset\u001b[0m\u001b[0;34m[\u001b[0m\u001b[0mpossibly_batched_index\u001b[0m\u001b[0;34m]\u001b[0m\u001b[0;34m\u001b[0m\u001b[0;34m\u001b[0m\u001b[0m\n",
            "\u001b[0;32m<ipython-input-56-18e2e9182e7a>\u001b[0m in \u001b[0;36m__getitem__\u001b[0;34m(self, idx)\u001b[0m\n\u001b[1;32m     57\u001b[0m         \u001b[0;32mif\u001b[0m \u001b[0mself\u001b[0m\u001b[0;34m.\u001b[0m\u001b[0mtransform\u001b[0m\u001b[0;34m:\u001b[0m\u001b[0;34m\u001b[0m\u001b[0;34m\u001b[0m\u001b[0m\n\u001b[1;32m     58\u001b[0m             \u001b[0mw\u001b[0m\u001b[0;34m,\u001b[0m \u001b[0mh\u001b[0m \u001b[0;34m=\u001b[0m \u001b[0mimage\u001b[0m\u001b[0;34m.\u001b[0m\u001b[0msize\u001b[0m\u001b[0;34m\u001b[0m\u001b[0;34m\u001b[0m\u001b[0m\n\u001b[0;32m---> 59\u001b[0;31m             \u001b[0mimage\u001b[0m \u001b[0;34m=\u001b[0m \u001b[0mself\u001b[0m\u001b[0;34m.\u001b[0m\u001b[0mtransform\u001b[0m\u001b[0;34m(\u001b[0m\u001b[0mimage\u001b[0m\u001b[0;34m)\u001b[0m\u001b[0;34m\u001b[0m\u001b[0;34m\u001b[0m\u001b[0m\n\u001b[0m\u001b[1;32m     60\u001b[0m \u001b[0;34m\u001b[0m\u001b[0m\n\u001b[1;32m     61\u001b[0m         \u001b[0;32mreturn\u001b[0m \u001b[0mimage\u001b[0m\u001b[0;34m,\u001b[0m \u001b[0mlabel\u001b[0m\u001b[0;34m\u001b[0m\u001b[0;34m\u001b[0m\u001b[0m\n",
            "\u001b[0;32m/usr/local/lib/python3.10/dist-packages/torchvision/transforms/transforms.py\u001b[0m in \u001b[0;36m__call__\u001b[0;34m(self, img)\u001b[0m\n\u001b[1;32m     93\u001b[0m     \u001b[0;32mdef\u001b[0m \u001b[0m__call__\u001b[0m\u001b[0;34m(\u001b[0m\u001b[0mself\u001b[0m\u001b[0;34m,\u001b[0m \u001b[0mimg\u001b[0m\u001b[0;34m)\u001b[0m\u001b[0;34m:\u001b[0m\u001b[0;34m\u001b[0m\u001b[0;34m\u001b[0m\u001b[0m\n\u001b[1;32m     94\u001b[0m         \u001b[0;32mfor\u001b[0m \u001b[0mt\u001b[0m \u001b[0;32min\u001b[0m \u001b[0mself\u001b[0m\u001b[0;34m.\u001b[0m\u001b[0mtransforms\u001b[0m\u001b[0;34m:\u001b[0m\u001b[0;34m\u001b[0m\u001b[0;34m\u001b[0m\u001b[0m\n\u001b[0;32m---> 95\u001b[0;31m             \u001b[0mimg\u001b[0m \u001b[0;34m=\u001b[0m \u001b[0mt\u001b[0m\u001b[0;34m(\u001b[0m\u001b[0mimg\u001b[0m\u001b[0;34m)\u001b[0m\u001b[0;34m\u001b[0m\u001b[0;34m\u001b[0m\u001b[0m\n\u001b[0m\u001b[1;32m     96\u001b[0m         \u001b[0;32mreturn\u001b[0m \u001b[0mimg\u001b[0m\u001b[0;34m\u001b[0m\u001b[0;34m\u001b[0m\u001b[0m\n\u001b[1;32m     97\u001b[0m \u001b[0;34m\u001b[0m\u001b[0m\n",
            "\u001b[0;32m/usr/local/lib/python3.10/dist-packages/torchvision/transforms/transforms.py\u001b[0m in \u001b[0;36m__call__\u001b[0;34m(self, img)\u001b[0m\n\u001b[1;32m    477\u001b[0m \u001b[0;34m\u001b[0m\u001b[0m\n\u001b[1;32m    478\u001b[0m     \u001b[0;32mdef\u001b[0m \u001b[0m__call__\u001b[0m\u001b[0;34m(\u001b[0m\u001b[0mself\u001b[0m\u001b[0;34m,\u001b[0m \u001b[0mimg\u001b[0m\u001b[0;34m)\u001b[0m\u001b[0;34m:\u001b[0m\u001b[0;34m\u001b[0m\u001b[0;34m\u001b[0m\u001b[0m\n\u001b[0;32m--> 479\u001b[0;31m         \u001b[0;32mreturn\u001b[0m \u001b[0mself\u001b[0m\u001b[0;34m.\u001b[0m\u001b[0mlambd\u001b[0m\u001b[0;34m(\u001b[0m\u001b[0mimg\u001b[0m\u001b[0;34m)\u001b[0m\u001b[0;34m\u001b[0m\u001b[0;34m\u001b[0m\u001b[0m\n\u001b[0m\u001b[1;32m    480\u001b[0m \u001b[0;34m\u001b[0m\u001b[0m\n\u001b[1;32m    481\u001b[0m     \u001b[0;32mdef\u001b[0m \u001b[0m__repr__\u001b[0m\u001b[0;34m(\u001b[0m\u001b[0mself\u001b[0m\u001b[0;34m)\u001b[0m \u001b[0;34m->\u001b[0m \u001b[0mstr\u001b[0m\u001b[0;34m:\u001b[0m\u001b[0;34m\u001b[0m\u001b[0;34m\u001b[0m\u001b[0m\n",
            "\u001b[0;32m<ipython-input-56-18e2e9182e7a>\u001b[0m in \u001b[0;36m<lambda>\u001b[0;34m(x)\u001b[0m\n\u001b[1;32m     35\u001b[0m \u001b[0;34m\u001b[0m\u001b[0m\n\u001b[1;32m     36\u001b[0m transform = transforms.Compose([\n\u001b[0;32m---> 37\u001b[0;31m     \u001b[0mtransforms\u001b[0m\u001b[0;34m.\u001b[0m\u001b[0mLambda\u001b[0m\u001b[0;34m(\u001b[0m\u001b[0;32mlambda\u001b[0m \u001b[0mx\u001b[0m\u001b[0;34m:\u001b[0m \u001b[0mresize_larger_dimension\u001b[0m\u001b[0;34m(\u001b[0m\u001b[0mx\u001b[0m\u001b[0;34m,\u001b[0m \u001b[0mimg_max\u001b[0m\u001b[0;34m)\u001b[0m\u001b[0;34m)\u001b[0m\u001b[0;34m,\u001b[0m  \u001b[0;31m# Resize the larger dimension to img_max while preserving aspect ratio\u001b[0m\u001b[0;34m\u001b[0m\u001b[0;34m\u001b[0m\u001b[0m\n\u001b[0m\u001b[1;32m     38\u001b[0m     \u001b[0mSquarePad\u001b[0m\u001b[0;34m(\u001b[0m\u001b[0;34m)\u001b[0m\u001b[0;34m,\u001b[0m\u001b[0;34m\u001b[0m\u001b[0;34m\u001b[0m\u001b[0m\n\u001b[1;32m     39\u001b[0m \u001b[0;31m#     transforms.ToTensor(),\u001b[0m\u001b[0;34m\u001b[0m\u001b[0;34m\u001b[0m\u001b[0m\n",
            "\u001b[0;32m<ipython-input-56-18e2e9182e7a>\u001b[0m in \u001b[0;36mresize_larger_dimension\u001b[0;34m(image, size)\u001b[0m\n\u001b[1;32m     32\u001b[0m         \u001b[0mnew_height\u001b[0m \u001b[0;34m=\u001b[0m \u001b[0msize\u001b[0m\u001b[0;34m\u001b[0m\u001b[0;34m\u001b[0m\u001b[0m\n\u001b[1;32m     33\u001b[0m \u001b[0;34m\u001b[0m\u001b[0m\n\u001b[0;32m---> 34\u001b[0;31m     \u001b[0;32mreturn\u001b[0m \u001b[0mimage\u001b[0m\u001b[0;34m.\u001b[0m\u001b[0mresize\u001b[0m\u001b[0;34m(\u001b[0m\u001b[0;34m(\u001b[0m\u001b[0mnew_width\u001b[0m\u001b[0;34m,\u001b[0m \u001b[0mnew_height\u001b[0m\u001b[0;34m)\u001b[0m\u001b[0;34m)\u001b[0m\u001b[0;34m\u001b[0m\u001b[0;34m\u001b[0m\u001b[0m\n\u001b[0m\u001b[1;32m     35\u001b[0m \u001b[0;34m\u001b[0m\u001b[0m\n\u001b[1;32m     36\u001b[0m transform = transforms.Compose([\n",
            "\u001b[0;32m/usr/local/lib/python3.10/dist-packages/PIL/Image.py\u001b[0m in \u001b[0;36mresize\u001b[0;34m(self, size, resample, box, reducing_gap)\u001b[0m\n\u001b[1;32m   2190\u001b[0m                 )\n\u001b[1;32m   2191\u001b[0m \u001b[0;34m\u001b[0m\u001b[0m\n\u001b[0;32m-> 2192\u001b[0;31m         \u001b[0;32mreturn\u001b[0m \u001b[0mself\u001b[0m\u001b[0;34m.\u001b[0m\u001b[0m_new\u001b[0m\u001b[0;34m(\u001b[0m\u001b[0mself\u001b[0m\u001b[0;34m.\u001b[0m\u001b[0mim\u001b[0m\u001b[0;34m.\u001b[0m\u001b[0mresize\u001b[0m\u001b[0;34m(\u001b[0m\u001b[0msize\u001b[0m\u001b[0;34m,\u001b[0m \u001b[0mresample\u001b[0m\u001b[0;34m,\u001b[0m \u001b[0mbox\u001b[0m\u001b[0;34m)\u001b[0m\u001b[0;34m)\u001b[0m\u001b[0;34m\u001b[0m\u001b[0;34m\u001b[0m\u001b[0m\n\u001b[0m\u001b[1;32m   2193\u001b[0m \u001b[0;34m\u001b[0m\u001b[0m\n\u001b[1;32m   2194\u001b[0m     \u001b[0;32mdef\u001b[0m \u001b[0mreduce\u001b[0m\u001b[0;34m(\u001b[0m\u001b[0mself\u001b[0m\u001b[0;34m,\u001b[0m \u001b[0mfactor\u001b[0m\u001b[0;34m,\u001b[0m \u001b[0mbox\u001b[0m\u001b[0;34m=\u001b[0m\u001b[0;32mNone\u001b[0m\u001b[0;34m)\u001b[0m\u001b[0;34m:\u001b[0m\u001b[0;34m\u001b[0m\u001b[0;34m\u001b[0m\u001b[0m\n",
            "\u001b[0;31mKeyboardInterrupt\u001b[0m: "
          ]
        }
      ],
      "source": [
        "# Move the model to GPU if available\n",
        "device = \"cpu\" #torch.device(\"cuda\" if torch.cuda.is_available() else \"cpu\")\n",
        "print(device)\n",
        "model = CNNArtModel(16).to(device)\n",
        "\n",
        "def test(model):\n",
        "    correct = 0\n",
        "    total = 0\n",
        "    true, pred = [], []\n",
        "    with torch.no_grad():\n",
        "        for inputs, labels  in test_loader:\n",
        "            outputs = model.forward(inputs)\n",
        "            predicted = torch.argmax(outputs, dim=1) # get predicted class label for each test example.\n",
        "            total += labels.size(0)\n",
        "            correct += (predicted == labels).sum().item()\n",
        "            true.append(labels)\n",
        "            pred.append(predicted)\n",
        "    acc = (100 * correct / total)\n",
        "    print('accuracy: %0.3f' % (acc))\n",
        "    true = np.concatenate(true)\n",
        "    pred = np.concatenate(pred)\n",
        "    return acc, true, pred\n",
        "\n",
        "# Modify the train_one_epoch function to move inputs and labels to GPU\n",
        "def train_one_epoch(model, train_loader, test_loader, optimizer, criterion):\n",
        "    total_loss = 0\n",
        "    count = 0\n",
        "    for inputs, labels in train_loader:\n",
        "        inputs, labels = inputs.to(device), labels.to(device)  # Move data to GPU\n",
        "        optimizer.zero_grad()\n",
        "        outputs = model(inputs)\n",
        "        loss = criterion(outputs, labels)\n",
        "        loss.backward()\n",
        "        optimizer.step()\n",
        "        total_loss += loss.item()\n",
        "        count += 1\n",
        "        print(f'Train loss after iteration {count}: {total_loss/count}')\n",
        "\n",
        "    print('{:>12s} {:>7.5f}'.format('Train loss:', total_loss/count))\n",
        "\n",
        "    correct = 0\n",
        "    total = 0\n",
        "    true, pred = [], []\n",
        "    with torch.no_grad():\n",
        "        for inputs, labels  in test_loader:\n",
        "            outputs = model.forward(inputs)\n",
        "            print(outputs.shape)\n",
        "            predicted = torch.argmax(outputs, dim=1) # get predicted class label for each test example.\n",
        "            print(predicted.shape)\n",
        "            total += labels.size(0)\n",
        "            correct += (predicted == labels).sum().item()\n",
        "            true.append(labels)\n",
        "            pred.append(predicted)\n",
        "    acc = (100 * correct / total)\n",
        "    print('accuracy: %0.3f' % (acc))\n",
        "    print()\n",
        "\n",
        "# Example of using the train_loader and val_loader in a training loop\n",
        "nepoch = 5\n",
        "optimizer = torch.optim.Adam(model.parameters(), lr=0.0005)\n",
        "criterion = nn.CrossEntropyLoss()\n",
        "scheduler = torch.optim.lr_scheduler.StepLR(optimizer, step_size=1, gamma=0.1)\n",
        "\n",
        "for epoch in range(nepoch):\n",
        "    train_one_epoch(model, train_loader, test_loader, optimizer, criterion)\n",
        "    scheduler.step()\n",
        "    torch.save(model, f'art_model_512_128_addsched_1_25_001_6k{epoch}.pt')"
      ]
    }
  ],
  "metadata": {
    "kaggle": {
      "accelerator": "none",
      "dataSources": [
        {
          "datasetId": 2477766,
          "sourceId": 4202543,
          "sourceType": "datasetVersion"
        }
      ],
      "dockerImageVersionId": 30684,
      "isGpuEnabled": false,
      "isInternetEnabled": false,
      "language": "python",
      "sourceType": "notebook"
    },
    "kernelspec": {
      "display_name": "Python 3",
      "name": "python3"
    },
    "language_info": {
      "codemirror_mode": {
        "name": "ipython",
        "version": 3
      },
      "file_extension": ".py",
      "mimetype": "text/x-python",
      "name": "python",
      "nbconvert_exporter": "python",
      "pygments_lexer": "ipython3",
      "version": "3.10.13"
    },
    "colab": {
      "provenance": [],
      "machine_shape": "hm",
      "gpuType": "V100"
    },
    "accelerator": "GPU"
  },
  "nbformat": 4,
  "nbformat_minor": 0
}