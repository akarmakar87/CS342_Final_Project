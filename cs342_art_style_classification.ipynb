{
  "cells": [
    {
      "cell_type": "code",
      "execution_count": 1,
      "metadata": {
        "id": "D3LZ7dNbYKS1"
      },
      "outputs": [],
      "source": [
        "import torch\n",
        "from torchvision import datasets, transforms\n",
        "import torch.nn as nn\n",
        "from PIL import Image\n",
        "from sklearn.model_selection import train_test_split\n",
        "import pandas as pd\n",
        "import os\n",
        "import torch.nn.functional as F\n",
        "import numpy as np\n",
        "from google.colab import drive\n",
        "\n",
        "seed = 42\n",
        "\n",
        "np.random.seed(seed)\n",
        "torch.manual_seed(seed)\n",
        "torch.cuda.manual_seed_all(seed)\n",
        "torch.cuda.manual_seed(seed)\n",
        "torch.backends.cudnn.benchmark = False\n",
        "torch.backends.cudnn.deterministic = True"
      ]
    },
    {
      "cell_type": "code",
      "execution_count": 2,
      "metadata": {
        "colab": {
          "base_uri": "https://localhost:8080/"
        },
        "id": "ZDK5jIM9ZgnW",
        "outputId": "6608e8b6-7c41-4b1f-b996-0870839a150b"
      },
      "outputs": [
        {
          "output_type": "stream",
          "name": "stdout",
          "text": [
            "Drive already mounted at /content/drive; to attempt to forcibly remount, call drive.mount(\"/content/drive\", force_remount=True).\n"
          ]
        }
      ],
      "source": [
        "drive.mount('/content/drive')"
      ]
    },
    {
      "cell_type": "code",
      "execution_count": 3,
      "metadata": {
        "id": "dnRjErj9a5jo"
      },
      "outputs": [],
      "source": [
        "# !unzip /content/drive/MyDrive/art_dataset.zip -d /content/drive/MyDrive/cs342fp/fixed_data/"
      ]
    },
    {
      "cell_type": "code",
      "execution_count": 4,
      "metadata": {
        "colab": {
          "base_uri": "https://localhost:8080/"
        },
        "id": "bNfsgxB-pbBI",
        "outputId": "1e9534f3-deec-41cb-da95-a43104ffc47c"
      },
      "outputs": [
        {
          "output_type": "stream",
          "name": "stdout",
          "text": [
            "/content/drive/MyDrive/cs342fp/fixed_data\n"
          ]
        }
      ],
      "source": [
        "%cd /content/drive/MyDrive/cs342fp/fixed_data/\n",
        "# %cd kaggle/working/Art_Nouveau_Modern"
      ]
    },
    {
      "cell_type": "code",
      "source": [
        "import os\n",
        "\n",
        "def count_files_in_folders(parent_folder):\n",
        "    # Check if the parent folder exists\n",
        "    if not os.path.exists(parent_folder):\n",
        "        print(f\"Parent folder '{parent_folder}' does not exist.\")\n",
        "        return\n",
        "\n",
        "    # Iterate over all the directories in the parent folder\n",
        "    for folder_name in os.listdir(parent_folder):\n",
        "        folder_path = os.path.join(parent_folder, folder_name)\n",
        "\n",
        "        # Check if it's a directory\n",
        "        if os.path.isdir(folder_path):\n",
        "            # Get the list of files in the directory\n",
        "            files_in_folder = os.listdir(folder_path)\n",
        "            num_files = len(files_in_folder)\n",
        "            print(f\"Folder '{folder_name}' contains {num_files} file(s).\")\n",
        "\n",
        "# Example usage:\n",
        "parent_folder = 'kaggle/working/'\n",
        "count_files_in_folders(parent_folder)\n"
      ],
      "metadata": {
        "colab": {
          "base_uri": "https://localhost:8080/"
        },
        "id": "cEiJYmNm_Kqp",
        "outputId": "7047ea85-e60d-4029-d452-514f28195675"
      },
      "execution_count": 5,
      "outputs": [
        {
          "output_type": "stream",
          "name": "stdout",
          "text": [
            "Folder 'Baroque' contains 1157 file(s).\n",
            "Folder 'Color_Field_Painting' contains 1159 file(s).\n",
            "Folder 'Early_Renaissance' contains 1159 file(s).\n",
            "Folder 'Expressionism' contains 1159 file(s).\n",
            "Folder 'Impressionism' contains 1132 file(s).\n",
            "Folder 'Mannerism_Late_Renaissance' contains 1159 file(s).\n",
            "Folder 'Naive_Art_Primitivism' contains 1141 file(s).\n",
            "Folder 'Romanticism' contains 1147 file(s).\n",
            "Folder 'Realism' contains 1157 file(s).\n",
            "Folder 'Cubism' contains 1139 file(s).\n",
            "Folder 'Minimalism' contains 1159 file(s).\n",
            "Folder 'Art_Nouveau_Modern' contains 1149 file(s).\n",
            "Folder 'Rococo' contains 1159 file(s).\n",
            "Folder 'High_Renaissance' contains 1159 file(s).\n",
            "Folder 'Northern_Renaissance' contains 1159 file(s).\n",
            "Folder 'Ukiyo_e' contains 1159 file(s).\n"
          ]
        }
      ]
    },
    {
      "cell_type": "code",
      "execution_count": 6,
      "metadata": {
        "colab": {
          "base_uri": "https://localhost:8080/",
          "height": 35
        },
        "id": "aYepgW4pq0mt",
        "outputId": "731babdb-2d77-4e6c-86e3-159a9418d4e4"
      },
      "outputs": [
        {
          "output_type": "execute_result",
          "data": {
            "text/plain": [
              "'/content/drive/MyDrive/cs342fp/fixed_data'"
            ],
            "application/vnd.google.colaboratory.intrinsic+json": {
              "type": "string"
            }
          },
          "metadata": {},
          "execution_count": 6
        }
      ],
      "source": [
        "%pwd"
      ]
    },
    {
      "cell_type": "code",
      "source": [
        "import os\n",
        "import random\n",
        "import pandas as pd\n",
        "\n",
        "# the 67% was cubism, high renaissance, color_field_painting\n",
        "\n",
        "valid_genres = [\n",
        "    # \"Art_Nouveau_Modern\",\n",
        "    \"Cubism\", # abstract but with shapes\n",
        "    # \"Expressionism\",\n",
        "    \"Mannerism_Late_Renaissance\", # human figures\n",
        "    # \"Impressionism\",\n",
        "    \"Color_Field_Painting\", # plain abstract\n",
        "    # 'Realism'\n",
        "    \"Ukiyo_e\" # landscape\n",
        "]\n",
        "\n",
        "# Function to sample files from each child directory\n",
        "def sample_files(parent_dir, num_samples):\n",
        "    data = []\n",
        "    # Iterate through each folder in the parent directory\n",
        "    for folder in os.listdir(parent_dir):\n",
        "\n",
        "        if folder not in valid_genres:\n",
        "          continue\n",
        "\n",
        "        folder_path = os.path.join(parent_dir, folder)\n",
        "        if not os.path.isdir(folder_path):\n",
        "          continue\n",
        "\n",
        "        files_in_folder = [f for f in os.listdir(folder_path) if os.path.isfile(os.path.join(folder_path, f))]\n",
        "        # If there are fewer than num_samples files, sample all of them\n",
        "        sampled_files = random.sample(files_in_folder, min(num_samples, len(files_in_folder)))\n",
        "\n",
        "        # Get the genre (name of the child folder)\n",
        "        genre = folder\n",
        "\n",
        "        # Append the filename and genre to the data list\n",
        "        for filename in sampled_files:\n",
        "            data.append({'filename': os.path.join(genre, filename), 'genre': genre})\n",
        "\n",
        "    return data\n",
        "\n",
        "# Set the parent directory\n",
        "parent_directory = \"/content/drive/MyDrive/cs342fp/fixed_data/kaggle/working/\"\n",
        "\n",
        "# Sample files and create a dataframe\n",
        "sampled_data = sample_files(parent_directory, num_samples=1100)"
      ],
      "metadata": {
        "id": "eakSV5OZHRbh"
      },
      "execution_count": 7,
      "outputs": []
    },
    {
      "cell_type": "code",
      "source": [
        "df = pd.DataFrame(sampled_data)\n",
        "\n",
        "# Shuffle the rows of the dataframe\n",
        "df = df.sample(frac=1).reset_index(drop=True)\n",
        "\n",
        "# Create a column called \"subset\" and randomly set values\n",
        "df['subset'] = 'train'  # Set default value to 'train'\n",
        "test_indices = random.sample(range(len(df)), int(0.2 * len(df)))  # Select 20% of rows for testing\n",
        "df.loc[test_indices, 'subset'] = 'test'  # Set subset value to 'test' for selected rows\n",
        "\n",
        "df['genre'] = df['genre'].apply(lambda x: valid_genres.index(x))\n",
        "df.reset_index(drop=True, inplace=True)\n",
        "\n",
        "# Display the dataframe\n",
        "print(df)\n",
        "# Display the dataframe\n",
        "print(df['subset'].value_counts())"
      ],
      "metadata": {
        "colab": {
          "base_uri": "https://localhost:8080/"
        },
        "id": "qyp62zC5LQ4U",
        "outputId": "03615635-18ce-45bf-cc93-5d655905d2e5"
      },
      "execution_count": 8,
      "outputs": [
        {
          "output_type": "stream",
          "name": "stdout",
          "text": [
            "                                               filename  genre subset\n",
            "0     Color_Field_Painting/mark-rothko_untitled-blue...      2  train\n",
            "1     Ukiyo_e/katsushika-hokusai_peasants-in-autumn.jpg      3  train\n",
            "2               Ukiyo_e/ito-jakuchu_rousho-hakkeizu.jpg      3  train\n",
            "3     Color_Field_Painting/morris-louis_number-32-19...      2  train\n",
            "4     Mannerism_Late_Renaissance/tintoretto_portrait...      1  train\n",
            "...                                                 ...    ...    ...\n",
            "4395                Ukiyo_e/hiroshige_four-swallows.jpg      3  train\n",
            "4396  Color_Field_Painting/barnett-newman_eleventh-s...      2  train\n",
            "4397     Cubism/pablo-picasso_glass-and-fruits-1908.jpg      0  train\n",
            "4398  Ukiyo_e/utagawa-kunisada_kagamiiwa-hamanosuke-...      3   test\n",
            "4399  Color_Field_Painting/gene-davis_split-beat-196...      2  train\n",
            "\n",
            "[4400 rows x 3 columns]\n",
            "subset\n",
            "train    3520\n",
            "test      880\n",
            "Name: count, dtype: int64\n"
          ]
        }
      ]
    },
    {
      "cell_type": "code",
      "source": [
        "print(df.head())"
      ],
      "metadata": {
        "colab": {
          "base_uri": "https://localhost:8080/"
        },
        "id": "8brJOn6MKV3H",
        "outputId": "96d7f5ce-ae47-4c49-8cdf-118a0e479991"
      },
      "execution_count": 9,
      "outputs": [
        {
          "output_type": "stream",
          "name": "stdout",
          "text": [
            "                                            filename  genre subset\n",
            "0  Color_Field_Painting/mark-rothko_untitled-blue...      2  train\n",
            "1  Ukiyo_e/katsushika-hokusai_peasants-in-autumn.jpg      3  train\n",
            "2            Ukiyo_e/ito-jakuchu_rousho-hakkeizu.jpg      3  train\n",
            "3  Color_Field_Painting/morris-louis_number-32-19...      2  train\n",
            "4  Mannerism_Late_Renaissance/tintoretto_portrait...      1  train\n"
          ]
        }
      ]
    },
    {
      "cell_type": "code",
      "source": [
        "parent_dir = \"kaggle/working/\""
      ],
      "metadata": {
        "id": "FMItCzZbMhkX"
      },
      "execution_count": 10,
      "outputs": []
    },
    {
      "cell_type": "code",
      "execution_count": 11,
      "metadata": {
        "id": "k0An6AePYaqT"
      },
      "outputs": [],
      "source": [
        "img_max = 512"
      ]
    },
    {
      "cell_type": "code",
      "execution_count": 12,
      "metadata": {
        "colab": {
          "base_uri": "https://localhost:8080/"
        },
        "id": "gfZHkyORYKS3",
        "outputId": "c22a458c-4b42-4909-aa21-c7a049c8d31f"
      },
      "outputs": [
        {
          "output_type": "stream",
          "name": "stdout",
          "text": [
            "CNNArtModel(\n",
            "  (path1_conv1): Conv2d(3, 16, kernel_size=(6, 6), stride=(1, 1), padding=(1, 1))\n",
            "  (path1_pool1): AvgPool2d(kernel_size=2, stride=2, padding=0)\n",
            "  (path1_conv2): Conv2d(16, 32, kernel_size=(3, 3), stride=(1, 1), padding=(1, 1))\n",
            "  (path1_pool2): AvgPool2d(kernel_size=2, stride=2, padding=0)\n",
            "  (path1_conv3): Conv2d(32, 64, kernel_size=(3, 3), stride=(1, 1), padding=(1, 1))\n",
            "  (path1_pool3): AvgPool2d(kernel_size=2, stride=2, padding=0)\n",
            "  (path2_conv1): Conv2d(3, 16, kernel_size=(6, 6), stride=(1, 1), padding=(1, 1))\n",
            "  (path2_pool1): MaxPool2d(kernel_size=2, stride=2, padding=0, dilation=1, ceil_mode=False)\n",
            "  (path2_conv2): Conv2d(16, 32, kernel_size=(3, 3), stride=(1, 1), padding=(1, 1))\n",
            "  (path2_pool2): MaxPool2d(kernel_size=2, stride=2, padding=0, dilation=1, ceil_mode=False)\n",
            "  (path2_conv3): Conv2d(32, 64, kernel_size=(3, 3), stride=(1, 1), padding=(1, 1))\n",
            "  (path2_pool3): MaxPool2d(kernel_size=2, stride=2, padding=0, dilation=1, ceil_mode=False)\n",
            "  (gated_attention): SimpleGatedAttention(\n",
            "    (attention_weights): Sequential(\n",
            "      (0): Conv2d(128, 64, kernel_size=(1, 1), stride=(1, 1))\n",
            "      (1): Sigmoid()\n",
            "    )\n",
            "  )\n",
            "  (global_avg_pool): AdaptiveAvgPool2d(output_size=(1, 1))\n",
            "  (classifier): Linear(in_features=64, out_features=16, bias=True)\n",
            ")\n"
          ]
        }
      ],
      "source": [
        "class SimpleGatedAttention(nn.Module):\n",
        "    def __init__(self, channel_size):\n",
        "        super(SimpleGatedAttention, self).__init__()\n",
        "        self.attention_weights = nn.Sequential(\n",
        "            nn.Conv2d(channel_size * 2, channel_size, kernel_size=1),\n",
        "            nn.Sigmoid()\n",
        "        )\n",
        "\n",
        "    def forward(self, x1, x2):\n",
        "        g = self.attention_weights(torch.cat((x1, x2), dim=1))\n",
        "        return x1 * g + x2 * (1 - g)\n",
        "\n",
        "class CNNArtModel(nn.Module):\n",
        "    def __init__(self, num_classes=16):\n",
        "        super(CNNArtModel, self).__init__()\n",
        "        # Path 1 for color usage\n",
        "        self.path1_conv1 = nn.Conv2d(3, 16, kernel_size=6, padding=1)\n",
        "        self.path1_pool1 = nn.AvgPool2d(kernel_size=2, stride=2)\n",
        "        self.path1_conv2 = nn.Conv2d(16, 32, kernel_size=3, padding=1)\n",
        "        self.path1_pool2 = nn.AvgPool2d(kernel_size=2, stride=2)\n",
        "        self.path1_conv3 = nn.Conv2d(32, 64, kernel_size=3, padding=1)\n",
        "        self.path1_pool3 = nn.AvgPool2d(kernel_size=2, stride=2)\n",
        "\n",
        "        # Path 2 for textural qualities\n",
        "        self.path2_conv1 = nn.Conv2d(3, 16, kernel_size=6, padding=1)\n",
        "        self.path2_pool1 = nn.MaxPool2d(kernel_size=2, stride=2)\n",
        "        self.path2_conv2 = nn.Conv2d(16, 32, kernel_size=3, padding=1)\n",
        "        self.path2_pool2 = nn.MaxPool2d(kernel_size=2, stride=2)\n",
        "        self.path2_conv3 = nn.Conv2d(32, 64, kernel_size=3, padding=1)\n",
        "        self.path2_pool3 = nn.MaxPool2d(kernel_size=2, stride=2)\n",
        "\n",
        "        # Gated attention to merge paths\n",
        "        self.gated_attention = SimpleGatedAttention(64)\n",
        "\n",
        "        # Global average pooling and final classifier\n",
        "        self.global_avg_pool = nn.AdaptiveAvgPool2d((1, 1))\n",
        "        self.classifier = nn.Linear(64, num_classes)\n",
        "\n",
        "    def forward(self, x):\n",
        "        # Path 1\n",
        "        x1 = F.relu(self.path1_conv1(x))\n",
        "        x1 = self.path1_pool1(x1)\n",
        "        x1 = F.relu(self.path1_conv2(x1))\n",
        "        x1 = self.path1_pool2(x1)\n",
        "        x1 = F.relu(self.path1_conv3(x1))\n",
        "        x1 = self.path1_pool3(x1)\n",
        "\n",
        "        # Path 2\n",
        "        x2 = F.relu(self.path2_conv1(x))\n",
        "        x2 = self.path2_pool1(x2)\n",
        "        x2 = F.relu(self.path2_conv2(x2))\n",
        "        x2 = self.path2_pool2(x2)\n",
        "        x2 = F.relu(self.path2_conv3(x2))\n",
        "        x2 = self.path2_pool3(x2)\n",
        "\n",
        "        # Merge paths with gated attention\n",
        "        x = self.gated_attention(x1, x2)\n",
        "\n",
        "        # Global average pooling and classification\n",
        "        x = self.global_avg_pool(x)\n",
        "        x = x.view(x.size(0), -1)\n",
        "        x = self.classifier(x)\n",
        "        return x\n",
        "\n",
        "# Instantiate the model\n",
        "print(CNNArtModel(16))\n"
      ]
    },
    {
      "cell_type": "code",
      "execution_count": 13,
      "metadata": {
        "id": "_6m_C6L2YKS3"
      },
      "outputs": [],
      "source": [
        "# Split the dataframe into train and test subsets\n",
        "train_df = df[df['subset'] == 'train']\n",
        "test_df = df[df['subset'] == 'test']\n",
        "\n",
        "import matplotlib.pyplot as plt\n",
        "\n",
        "class SquarePad:\n",
        "    def __call__(self, image):\n",
        "\n",
        "        padded_tensor = torch.tensor(np.array(image), dtype=torch.float).permute(2,0,1)\n",
        "        count = 0\n",
        "\n",
        "        while padded_tensor.shape != (3,img_max,img_max):\n",
        "          h = padded_tensor.shape[1]\n",
        "          w = padded_tensor.shape[2]\n",
        "\n",
        "          max_wh = max([w, h])\n",
        "          hp = int((max_wh - w) // 2)\n",
        "          vp = int((max_wh - h) // 2)\n",
        "          padding = (hp, hp, vp, vp)\n",
        "          if hp * 2 + w < img_max:\n",
        "              padding = (hp, hp + 1, vp, vp)\n",
        "          if vp * 2 + h < img_max:\n",
        "              padding = (hp, hp, vp, vp + 1)\n",
        "\n",
        "          padding = (min(padding[0], w-1),min(padding[1], w-1),min(padding[2], h-1),min(padding[3], h-1))\n",
        "\n",
        "          padded_tensor = F.pad(padded_tensor,padding, mode='reflect')\n",
        "\n",
        "        #Display the image after each padding iteration\n",
        "        # image_np = padded_tensor.permute(1, 2, 0).numpy()\n",
        "        # # Display the image\n",
        "        # plt.imshow(image_np/255)\n",
        "        # plt.show()\n",
        "\n",
        "        assert(padded_tensor.shape == (3,img_max,img_max))\n",
        "        return padded_tensor\n",
        "\n",
        "\n",
        "def custom_normalize(image_tensor):\n",
        "    # Normalize image tensor to the range [0, 1]\n",
        "    normalized_image = image_tensor / 255.0\n",
        "    return normalized_image\n",
        "\n",
        "def resize_larger_dimension(image, size):\n",
        "    width, height = image.size\n",
        "    aspect_ratio = width / height\n",
        "    if width > height:\n",
        "        new_width = size\n",
        "        new_height = int(size / aspect_ratio)\n",
        "    else:\n",
        "        new_width = int(size * aspect_ratio)\n",
        "        new_height = size\n",
        "\n",
        "    return image.resize((new_width, new_height))\n",
        "\n",
        "transform = transforms.Compose([\n",
        "    transforms.Lambda(lambda x: resize_larger_dimension(x, img_max)),  # Resize the larger dimension to img_max while preserving aspect ratio\n",
        "    SquarePad(),\n",
        "    # transforms.Lambda(lambda x: custom_normalize(x))\n",
        "    transforms.Normalize(mean=[0.485, 0.456, 0.406], std=[0.229, 0.224, 0.225])  # Normalize the image\n",
        "])\n",
        "\n",
        "# Define a custom dataset class\n",
        "class CustomDataset(torch.utils.data.Dataset):\n",
        "    def __init__(self, dataframe, transform=None):\n",
        "        self.dataframe = dataframe\n",
        "        self.transform = transform\n",
        "\n",
        "    def __len__(self):\n",
        "        return len(self.dataframe)\n",
        "\n",
        "    def __getitem__(self, idx):\n",
        "        filename = os.path.join(parent_dir, self.dataframe.iloc[idx]['filename'])\n",
        "        # print(filename)\n",
        "        image = Image.open(filename).convert('RGB')\n",
        "        # print(\"got image\")\n",
        "        label = self.dataframe.iloc[idx]['genre']\n",
        "\n",
        "        if self.transform:\n",
        "            w, h = image.size\n",
        "            image = self.transform(image)\n",
        "\n",
        "        return image, label\n",
        "\n",
        "# Create custom datasets for train and test\n",
        "train_dataset = CustomDataset(train_df, transform=transform)\n",
        "test_dataset = CustomDataset(test_df, transform=transform)\n",
        "\n",
        "# Create train and test dataloaders\n",
        "train_loader = torch.utils.data.DataLoader(train_dataset, batch_size=128, shuffle=True)\n",
        "test_loader = torch.utils.data.DataLoader(test_dataset, batch_size=128, shuffle=False)"
      ]
    },
    {
      "cell_type": "code",
      "execution_count": 14,
      "metadata": {
        "colab": {
          "base_uri": "https://localhost:8080/"
        },
        "id": "l3vJq2wVYKS4",
        "outputId": "4a7724da-23c6-4830-d6bc-944dcf6416ca"
      },
      "outputs": [
        {
          "output_type": "stream",
          "name": "stdout",
          "text": [
            "cuda\n",
            "Train loss after iteration 1: 26.90967559814453\n",
            "Train loss after iteration 2: 21.4266996383667\n",
            "Train loss after iteration 3: 17.161441485087078\n",
            "Train loss after iteration 4: 14.523662567138672\n",
            "Train loss after iteration 5: 13.117760944366456\n",
            "Train loss after iteration 6: 12.17484974861145\n",
            "Train loss after iteration 7: 11.277342319488525\n",
            "Train loss after iteration 8: 10.329694300889969\n",
            "Train loss after iteration 9: 9.534801324208578\n",
            "Train loss after iteration 10: 9.03289155960083\n",
            "Train loss after iteration 11: 8.614349842071533\n",
            "Train loss after iteration 12: 8.182529052098593\n",
            "Train loss after iteration 13: 7.785392229373638\n",
            "Train loss after iteration 14: 7.396613802228655\n",
            "Train loss after iteration 15: 7.0425713380177815\n",
            "Train loss after iteration 16: 6.7952751368284225\n",
            "Train loss after iteration 17: 6.503076518283171\n",
            "Train loss after iteration 18: 6.2285272346602545\n",
            "Train loss after iteration 19: 6.000385685970909\n",
            "Train loss after iteration 20: 5.785896116495133\n",
            "Train loss after iteration 21: 5.617208316212609\n",
            "Train loss after iteration 22: 5.437286718325182\n",
            "Train loss after iteration 23: 5.260122133337933\n",
            "Train loss after iteration 24: 5.0923885107040405\n",
            "Train loss after iteration 25: 4.946040744781494\n",
            "Train loss after iteration 26: 4.820058107376099\n",
            "Train loss after iteration 27: 4.695878907486245\n",
            "Train loss after iteration 28: 4.581085707460131\n",
            " Train loss: 4.58109\n",
            "accuracy: 46.364\n",
            "\n",
            "Train loss after iteration 1: 1.2426313161849976\n",
            "Train loss after iteration 2: 1.3680790066719055\n",
            "Train loss after iteration 3: 1.327460765838623\n",
            "Train loss after iteration 4: 1.2568519711494446\n",
            "Train loss after iteration 5: 1.2687865257263184\n",
            "Train loss after iteration 6: 1.2356743613878887\n",
            "Train loss after iteration 7: 1.2086282968521118\n",
            "Train loss after iteration 8: 1.1978298425674438\n",
            "Train loss after iteration 9: 1.1864252620273166\n",
            "Train loss after iteration 10: 1.1777533292770386\n",
            "Train loss after iteration 11: 1.1561602679165928\n",
            "Train loss after iteration 12: 1.1499629020690918\n",
            "Train loss after iteration 13: 1.152777726833637\n",
            "Train loss after iteration 14: 1.127108829362052\n",
            "Train loss after iteration 15: 1.1125205477078757\n",
            "Train loss after iteration 16: 1.105509426444769\n",
            "Train loss after iteration 17: 1.0980455559842728\n",
            "Train loss after iteration 18: 1.0921002295282152\n",
            "Train loss after iteration 19: 1.0921068756203902\n",
            "Train loss after iteration 20: 1.0850314974784852\n",
            "Train loss after iteration 21: 1.0761141720272245\n",
            "Train loss after iteration 22: 1.0743249600583857\n",
            "Train loss after iteration 23: 1.068256059418554\n",
            "Train loss after iteration 24: 1.0657337630788486\n",
            "Train loss after iteration 25: 1.0702889132499696\n",
            "Train loss after iteration 26: 1.0667631442730243\n",
            "Train loss after iteration 27: 1.0609024233288236\n",
            "Train loss after iteration 28: 1.0570713239056724\n",
            " Train loss: 1.05707\n",
            "accuracy: 62.273\n",
            "\n",
            "Train loss after iteration 1: 0.8461942076683044\n",
            "Train loss after iteration 2: 0.8398852646350861\n",
            "Train loss after iteration 3: 0.8444128831227621\n",
            "Train loss after iteration 4: 0.8562183380126953\n",
            "Train loss after iteration 5: 0.8788638234138488\n",
            "Train loss after iteration 6: 0.8632633686065674\n",
            "Train loss after iteration 7: 0.8646855269159589\n",
            "Train loss after iteration 8: 0.881404772400856\n",
            "Train loss after iteration 9: 0.8768336243099637\n",
            "Train loss after iteration 10: 0.8784025132656097\n",
            "Train loss after iteration 11: 0.878775493665175\n",
            "Train loss after iteration 12: 0.8896120438973109\n",
            "Train loss after iteration 13: 0.886005374101492\n",
            "Train loss after iteration 14: 0.8864421120711735\n",
            "Train loss after iteration 15: 0.8861231644948323\n",
            "Train loss after iteration 16: 0.8800975978374481\n",
            "Train loss after iteration 17: 0.8833555509062374\n",
            "Train loss after iteration 18: 0.8799639410442777\n",
            "Train loss after iteration 19: 0.8773942244680304\n",
            "Train loss after iteration 20: 0.8740532159805298\n",
            "Train loss after iteration 21: 0.876757528100695\n",
            "Train loss after iteration 22: 0.8714999556541443\n",
            "Train loss after iteration 23: 0.863489208014115\n",
            "Train loss after iteration 24: 0.8634422421455383\n",
            "Train loss after iteration 25: 0.8628710293769837\n",
            "Train loss after iteration 26: 0.8666493204923776\n",
            "Train loss after iteration 27: 0.8685631288422478\n",
            "Train loss after iteration 28: 0.862762274486678\n",
            " Train loss: 0.86276\n",
            "accuracy: 69.545\n",
            "\n",
            "Train loss after iteration 1: 0.9129225611686707\n",
            "Train loss after iteration 2: 0.8228129148483276\n",
            "Train loss after iteration 3: 0.8020872473716736\n",
            "Train loss after iteration 4: 0.7906275242567062\n",
            "Train loss after iteration 5: 0.7831486105918884\n",
            "Train loss after iteration 6: 0.7741287449995676\n",
            "Train loss after iteration 7: 0.7822043640272958\n",
            "Train loss after iteration 8: 0.796253427863121\n",
            "Train loss after iteration 9: 0.8038024372524686\n",
            "Train loss after iteration 10: 0.8006991267204284\n",
            "Train loss after iteration 11: 0.8098041144284335\n",
            "Train loss after iteration 12: 0.8046326885620753\n",
            "Train loss after iteration 13: 0.803847244152656\n",
            "Train loss after iteration 14: 0.8111836952822549\n",
            "Train loss after iteration 15: 0.8204083998998006\n",
            "Train loss after iteration 16: 0.8245155699551105\n",
            "Train loss after iteration 17: 0.8230638609212988\n",
            "Train loss after iteration 18: 0.8236322734091017\n",
            "Train loss after iteration 19: 0.8257886673274794\n",
            "Train loss after iteration 20: 0.829762652516365\n",
            "Train loss after iteration 21: 0.8376298518407912\n",
            "Train loss after iteration 22: 0.8374190655621615\n",
            "Train loss after iteration 23: 0.833284608695818\n",
            "Train loss after iteration 24: 0.8283966481685638\n",
            "Train loss after iteration 25: 0.8296102976799011\n",
            "Train loss after iteration 26: 0.8285773006769327\n",
            "Train loss after iteration 27: 0.8363451140898245\n",
            "Train loss after iteration 28: 0.8389495100293841\n",
            " Train loss: 0.83895\n",
            "accuracy: 70.341\n",
            "\n",
            "Train loss after iteration 1: 0.8326172828674316\n",
            "Train loss after iteration 2: 0.8248881995677948\n",
            "Train loss after iteration 3: 0.8172837495803833\n",
            "Train loss after iteration 4: 0.7693695276975632\n",
            "Train loss after iteration 5: 0.7841192483901978\n",
            "Train loss after iteration 6: 0.7868570784727732\n",
            "Train loss after iteration 7: 0.7909107974597386\n",
            "Train loss after iteration 8: 0.7845986261963844\n",
            "Train loss after iteration 9: 0.7880636188719008\n",
            "Train loss after iteration 10: 0.8020279169082641\n",
            "Train loss after iteration 11: 0.8227027546275746\n",
            "Train loss after iteration 12: 0.8289255847533544\n",
            "Train loss after iteration 13: 0.8184923667174119\n",
            "Train loss after iteration 14: 0.8136380229677472\n",
            "Train loss after iteration 15: 0.8118035038312276\n",
            "Train loss after iteration 16: 0.8111761920154095\n",
            "Train loss after iteration 17: 0.8076698709936703\n",
            "Train loss after iteration 18: 0.808406776852078\n",
            "Train loss after iteration 19: 0.8129273935368186\n",
            "Train loss after iteration 20: 0.8131250679492951\n",
            "Train loss after iteration 21: 0.81924455506461\n",
            "Train loss after iteration 22: 0.8159841407429088\n",
            "Train loss after iteration 23: 0.8153261360914811\n",
            "Train loss after iteration 24: 0.8136478960514069\n",
            "Train loss after iteration 25: 0.8124781441688538\n",
            "Train loss after iteration 26: 0.8112415029452398\n",
            "Train loss after iteration 27: 0.8092976035895171\n",
            "Train loss after iteration 28: 0.8078471826655524\n",
            " Train loss: 0.80785\n",
            "accuracy: 71.818\n",
            "\n"
          ]
        }
      ],
      "source": [
        "device = torch.device(\"cuda\" if torch.cuda.is_available() else \"cpu\")\n",
        "print(device)\n",
        "model = CNNArtModel(num_classes=16).to(device)\n",
        "\n",
        "\n",
        "# Modify the train_one_epoch function to move inputs and labels to GPU\n",
        "def train_one_epoch(model, train_loader, test_loader, optimizer, criterion):\n",
        "    total_loss = 0\n",
        "    count = 0\n",
        "    for inputs, labels in train_loader:\n",
        "        inputs, labels = inputs.to(device), labels.to(device)\n",
        "        optimizer.zero_grad()\n",
        "        outputs = model(inputs)\n",
        "        loss = criterion(outputs, labels)\n",
        "        loss.backward()\n",
        "        optimizer.step()\n",
        "        total_loss += loss.item()\n",
        "        count += 1\n",
        "        print(f'Train loss after iteration {count}: {total_loss/count}')\n",
        "    print('{:>12s} {:>7.5f}'.format('Train loss:', total_loss/count))\n",
        "\n",
        "    correct = 0\n",
        "    total = 0\n",
        "    true, pred = [], []\n",
        "    with torch.no_grad():\n",
        "        for inputs, labels  in test_loader:\n",
        "            inputs, labels = inputs.to(device), labels.to(device)\n",
        "            outputs = model.forward(inputs)\n",
        "            predicted = torch.argmax(outputs, dim=1) # get predicted class label for each test example.\n",
        "            total += labels.size(0)\n",
        "            correct += (predicted == labels).sum().item()\n",
        "            true.append(labels)\n",
        "            pred.append(predicted)\n",
        "    acc = (100 * correct / total)\n",
        "    print('accuracy: %0.3f' % (acc))\n",
        "    print()\n",
        "    return acc\n",
        "\n",
        "# Example of using the train_loader and val_loader in a training loop\n",
        "nepoch = 5\n",
        "optimizer = torch.optim.Adam(model.parameters(), lr=0.0005)\n",
        "criterion = nn.CrossEntropyLoss()\n",
        "scheduler = torch.optim.lr_scheduler.StepLR(optimizer, step_size=2, gamma=0.1)\n",
        "\n",
        "for epoch in range(nepoch):\n",
        "    acc = train_one_epoch(model, train_loader, test_loader, optimizer, criterion)\n",
        "    scheduler.step()\n",
        "    torch.save(model, f'art_model_4classes_mlr_1100samps_lr0005_{epoch}_{round(acc,1)}.pt')"
      ]
    },
    {
      "cell_type": "code",
      "source": [
        "import matplotlib.pyplot as plt\n",
        "from sklearn.metrics import confusion_matrix, accuracy_score\n",
        "import seaborn as sns\n",
        "\n",
        "model.to('cpu')\n",
        "model.eval()\n",
        "\n",
        "# 3. Run inference and collect predictions and true labels\n",
        "predictions = []\n",
        "true_labels = []\n",
        "\n",
        "with torch.no_grad():\n",
        "    for inputs, labels in test_loader:\n",
        "        outputs = model(inputs)\n",
        "        _, predicted = torch.max(outputs, 1)\n",
        "        predictions.extend(predicted.numpy())\n",
        "        true_labels.extend(labels.numpy())\n"
      ],
      "metadata": {
        "id": "M3vyIXAtslDJ"
      },
      "execution_count": null,
      "outputs": []
    },
    {
      "cell_type": "code",
      "source": [
        "# Assuming valid_genres contains the list of genre strings\n",
        "valid_genres = np.array(valid_genres)\n",
        "\n",
        "# Compute the confusion matrix\n",
        "conf_matrix = confusion_matrix(valid_genres[true_labels], valid_genres[predictions], labels=valid_genres)\n",
        "\n",
        "# Calculate accuracy\n",
        "accuracy = accuracy_score(true_labels, predictions)\n",
        "\n",
        "# Plot the confusion matrix\n",
        "plt.figure(figsize=(10, 8))\n",
        "sns.heatmap(conf_matrix, annot=True, fmt='d', cmap='Blues', cbar=False, xticklabels=valid_genres, yticklabels=valid_genres)\n",
        "plt.xlabel('Predicted labels')\n",
        "plt.ylabel('True labels')\n",
        "plt.title(f'Confusion Matrix\\nAccuracy: {accuracy:.4f}')\n",
        "plt.show()\n",
        "\n",
        "# Print accuracy\n",
        "print(f'Accuracy: {accuracy:.4f}')"
      ],
      "metadata": {
        "colab": {
          "base_uri": "https://localhost:8080/",
          "height": 756
        },
        "id": "jlYYquW1Cs5A",
        "outputId": "4363b2ba-3047-406b-e97c-cb2563c955a1"
      },
      "execution_count": 28,
      "outputs": [
        {
          "output_type": "display_data",
          "data": {
            "text/plain": [
              "<Figure size 1000x800 with 1 Axes>"
            ],
            "image/png": "[encoded data removed]"
          },
          "metadata": {}
        },
        {
          "output_type": "stream",
          "name": "stdout",
          "text": [
            "Accuracy: 0.7182\n"
          ]
        }
      ]
    },
    {
      "cell_type": "code",
      "source": [
        "print(np.unique(predictions))\n",
        "print(np.unique(true_labels))\n",
        "print(valid_genres)"
      ],
      "metadata": {
        "colab": {
          "base_uri": "https://localhost:8080/"
        },
        "id": "YdGLQcauuMFE",
        "outputId": "6fb93735-0fee-4039-980f-4ffeaee08f31"
      },
      "execution_count": 29,
      "outputs": [
        {
          "output_type": "stream",
          "name": "stdout",
          "text": [
            "[0 1 2 3]\n",
            "[0 1 2 3]\n",
            "['Cubism' 'Mannerism_Late_Renaissance' 'Color_Field_Painting' 'Ukiyo_e']\n"
          ]
        }
      ]
    }
  ],
  "metadata": {
    "accelerator": "GPU",
    "colab": {
      "gpuType": "L4",
      "machine_shape": "hm",
      "provenance": []
    },
    "kaggle": {
      "accelerator": "none",
      "dataSources": [
        {
          "datasetId": 2477766,
          "sourceId": 4202543,
          "sourceType": "datasetVersion"
        }
      ],
      "dockerImageVersionId": 30684,
      "isGpuEnabled": false,
      "isInternetEnabled": false,
      "language": "python",
      "sourceType": "notebook"
    },
    "kernelspec": {
      "display_name": "Python 3",
      "name": "python3"
    },
    "language_info": {
      "codemirror_mode": {
        "name": "ipython",
        "version": 3
      },
      "file_extension": ".py",
      "mimetype": "text/x-python",
      "name": "python",
      "nbconvert_exporter": "python",
      "pygments_lexer": "ipython3",
      "version": "3.10.13"
    }
  },
  "nbformat": 4,
  "nbformat_minor": 0
}